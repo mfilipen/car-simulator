{
 "cells": [
  {
   "cell_type": "markdown",
   "metadata": {},
   "source": [
    "# Homogeneous transformation matrix"
   ]
  },
  {
   "cell_type": "code",
   "execution_count": 58,
   "metadata": {},
   "outputs": [],
   "source": [
    "import numpy as np\n",
    "import sympy as sym\n",
    "import core.tf as tf"
   ]
  },
  {
   "cell_type": "code",
   "execution_count": 59,
   "metadata": {},
   "outputs": [],
   "source": [
    "x, y, z, alpha, beta, gamma = sym.symbols(\"x, y, z, alpha, beta, gamma\")"
   ]
  },
  {
   "cell_type": "code",
   "execution_count": 60,
   "metadata": {},
   "outputs": [
    {
     "data": {
      "text/latex": [
       "\\begin{bmatrix}\n",
       "  1 & 0 & 0 & x\\\\\n",
       "  0 & 1 & 0 & 0\\\\\n",
       "  0 & 0 & 1 & 0\\\\\n",
       "  0 & 0 & 0 & 1\\\\\n",
       "\\end{bmatrix}"
      ],
      "text/plain": [
       "<IPython.core.display.Latex object>"
      ]
     },
     "metadata": {},
     "output_type": "display_data"
    }
   ],
   "source": [
    "H = tf.Tx(x)\n",
    "tf.print(H)"
   ]
  },
  {
   "cell_type": "code",
   "execution_count": 61,
   "metadata": {},
   "outputs": [
    {
     "data": {
      "text/latex": [
       "\\begin{bmatrix}\n",
       "  1 & 0 & 0 & 0\\\\\n",
       "  0 & 1 & 0 & y\\\\\n",
       "  0 & 0 & 1 & 0\\\\\n",
       "  0 & 0 & 0 & 1\\\\\n",
       "\\end{bmatrix}"
      ],
      "text/plain": [
       "<IPython.core.display.Latex object>"
      ]
     },
     "metadata": {},
     "output_type": "display_data"
    }
   ],
   "source": [
    "H = tf.Ty(y)\n",
    "tf.print(H)"
   ]
  },
  {
   "cell_type": "code",
   "execution_count": 62,
   "metadata": {},
   "outputs": [
    {
     "data": {
      "text/latex": [
       "\\begin{bmatrix}\n",
       "  1 & 0 & 0 & 0\\\\\n",
       "  0 & 1 & 0 & 0\\\\\n",
       "  0 & 0 & 1 & z\\\\\n",
       "  0 & 0 & 0 & 1\\\\\n",
       "\\end{bmatrix}"
      ],
      "text/plain": [
       "<IPython.core.display.Latex object>"
      ]
     },
     "metadata": {},
     "output_type": "display_data"
    }
   ],
   "source": [
    "H = tf.Tz(z)\n",
    "tf.print(H)"
   ]
  },
  {
   "cell_type": "code",
   "execution_count": 63,
   "metadata": {},
   "outputs": [
    {
     "data": {
      "text/latex": [
       "\\begin{bmatrix}\n",
       "  1 & 0 & 0 & x\\\\\n",
       "  0 & 1 & 0 & y\\\\\n",
       "  0 & 0 & 1 & z\\\\\n",
       "  0 & 0 & 0 & 1\\\\\n",
       "\\end{bmatrix}"
      ],
      "text/plain": [
       "<IPython.core.display.Latex object>"
      ]
     },
     "metadata": {},
     "output_type": "display_data"
    }
   ],
   "source": [
    "H = tf.Tx(x) * tf.Ty(y) * tf.Tz(z) \n",
    "tf.print(H)"
   ]
  },
  {
   "cell_type": "code",
   "execution_count": 64,
   "metadata": {},
   "outputs": [
    {
     "data": {
      "text/latex": [
       "\\begin{bmatrix}\n",
       "  0\\\\\n",
       "  0\\\\\n",
       "  0\\\\\n",
       "  1\\\\\n",
       "\\end{bmatrix}"
      ],
      "text/plain": [
       "<IPython.core.display.Latex object>"
      ]
     },
     "metadata": {},
     "output_type": "display_data"
    }
   ],
   "source": [
    "H = tf.O\n",
    "tf.print(H)"
   ]
  },
  {
   "cell_type": "code",
   "execution_count": 65,
   "metadata": {},
   "outputs": [
    {
     "data": {
      "text/latex": [
       "\\begin{bmatrix}\n",
       "  x & + & 1\\\\\n",
       "  y\\\\\n",
       "  z\\\\\n",
       "  1\\\\\n",
       "\\end{bmatrix}"
      ],
      "text/plain": [
       "<IPython.core.display.Latex object>"
      ]
     },
     "metadata": {},
     "output_type": "display_data"
    }
   ],
   "source": [
    "H = tf.Tx(x) * tf.Ty(y) * tf.Tz(z) * tf.I \n",
    "tf.print(H)"
   ]
  },
  {
   "cell_type": "code",
   "execution_count": 66,
   "metadata": {},
   "outputs": [
    {
     "data": {
      "text/latex": [
       "\\begin{bmatrix}\n",
       "  x\\\\\n",
       "  y & + & 1\\\\\n",
       "  z\\\\\n",
       "  1\\\\\n",
       "\\end{bmatrix}"
      ],
      "text/plain": [
       "<IPython.core.display.Latex object>"
      ]
     },
     "metadata": {},
     "output_type": "display_data"
    }
   ],
   "source": [
    "H = tf.Tx(x) * tf.Ty(y) * tf.Tz(z) * tf.J \n",
    "tf.print(H)"
   ]
  },
  {
   "cell_type": "code",
   "execution_count": 67,
   "metadata": {},
   "outputs": [
    {
     "data": {
      "text/latex": [
       "\\begin{bmatrix}\n",
       "  x\\\\\n",
       "  y\\\\\n",
       "  z & + & 1\\\\\n",
       "  1\\\\\n",
       "\\end{bmatrix}"
      ],
      "text/plain": [
       "<IPython.core.display.Latex object>"
      ]
     },
     "metadata": {},
     "output_type": "display_data"
    }
   ],
   "source": [
    "H = tf.Tx(x) * tf.Ty(y) * tf.Tz(z) * tf.K\n",
    "tf.print(H)"
   ]
  },
  {
   "cell_type": "code",
   "execution_count": 68,
   "metadata": {},
   "outputs": [
    {
     "data": {
      "image/png": "[encoded data removed]",
      "text/latex": [
       "$$\\left[\\begin{matrix}1 & 0 & 0 & 0\\\\0 & \\cos{\\left (\\alpha \\right )} & - \\sin{\\left (\\alpha \\right )} & 0\\\\0 & \\sin{\\left (\\alpha \\right )} & \\cos{\\left (\\alpha \\right )} & 0\\\\0 & 0 & 0 & 1\\end{matrix}\\right]$$"
      ],
      "text/plain": [
       "⎡1    0        0     0⎤\n",
       "⎢                     ⎥\n",
       "⎢0  cos(α)  -sin(α)  0⎥\n",
       "⎢                     ⎥\n",
       "⎢0  sin(α)  cos(α)   0⎥\n",
       "⎢                     ⎥\n",
       "⎣0    0        0     1⎦"
      ]
     },
     "execution_count": 68,
     "metadata": {},
     "output_type": "execute_result"
    }
   ],
   "source": [
    "H = tf.RxSym(alpha)\n",
    "H"
   ]
  },
  {
   "cell_type": "code",
   "execution_count": 69,
   "metadata": {},
   "outputs": [
    {
     "data": {
      "image/png": "[encoded data removed]",
      "text/latex": [
       "$$\\left[\\begin{matrix}\\cos{\\left (\\beta \\right )} & 0 & \\sin{\\left (\\beta \\right )} & 0\\\\0 & 1 & 0 & 0\\\\- \\sin{\\left (\\beta \\right )} & 0 & \\cos{\\left (\\beta \\right )} & 0\\\\0 & 0 & 0 & 1\\end{matrix}\\right]$$"
      ],
      "text/plain": [
       "⎡cos(β)   0  sin(β)  0⎤\n",
       "⎢                     ⎥\n",
       "⎢   0     1    0     0⎥\n",
       "⎢                     ⎥\n",
       "⎢-sin(β)  0  cos(β)  0⎥\n",
       "⎢                     ⎥\n",
       "⎣   0     0    0     1⎦"
      ]
     },
     "execution_count": 69,
     "metadata": {},
     "output_type": "execute_result"
    }
   ],
   "source": [
    "H = tf.RySym(beta)\n",
    "H"
   ]
  },
  {
   "cell_type": "code",
   "execution_count": 70,
   "metadata": {},
   "outputs": [
    {
     "data": {
      "image/png": "[encoded data removed]",
      "text/latex": [
       "$$\\left[\\begin{matrix}\\cos{\\left (\\gamma \\right )} & - \\sin{\\left (\\gamma \\right )} & 0 & 0\\\\\\sin{\\left (\\gamma \\right )} & \\cos{\\left (\\gamma \\right )} & 0 & 0\\\\0 & 0 & 1 & 0\\\\0 & 0 & 0 & 1\\end{matrix}\\right]$$"
      ],
      "text/plain": [
       "⎡cos(γ)  -sin(γ)  0  0⎤\n",
       "⎢                     ⎥\n",
       "⎢sin(γ)  cos(γ)   0  0⎥\n",
       "⎢                     ⎥\n",
       "⎢  0        0     1  0⎥\n",
       "⎢                     ⎥\n",
       "⎣  0        0     0  1⎦"
      ]
     },
     "execution_count": 70,
     "metadata": {},
     "output_type": "execute_result"
    }
   ],
   "source": [
    "H = tf.RzSym(gamma)\n",
    "H"
   ]
  },
  {
   "cell_type": "code",
   "execution_count": 71,
   "metadata": {},
   "outputs": [
    {
     "data": {
      "image/png": "[encoded data removed]",
      "text/latex": [
       "$$\\left[\\begin{matrix}\\cos{\\left (\\beta \\right )} \\cos{\\left (\\gamma \\right )} & \\sin{\\left (\\alpha \\right )} \\sin{\\left (\\beta \\right )} \\cos{\\left (\\gamma \\right )} - \\sin{\\left (\\gamma \\right )} \\cos{\\left (\\alpha \\right )} & \\sin{\\left (\\alpha \\right )} \\sin{\\left (\\gamma \\right )} + \\sin{\\left (\\beta \\right )} \\cos{\\left (\\alpha \\right )} \\cos{\\left (\\gamma \\right )} & 0\\\\\\sin{\\left (\\gamma \\right )} \\cos{\\left (\\beta \\right )} & \\sin{\\left (\\alpha \\right )} \\sin{\\left (\\beta \\right )} \\sin{\\left (\\gamma \\right )} + \\cos{\\left (\\alpha \\right )} \\cos{\\left (\\gamma \\right )} & - \\sin{\\left (\\alpha \\right )} \\cos{\\left (\\gamma \\right )} + \\sin{\\left (\\beta \\right )} \\sin{\\left (\\gamma \\right )} \\cos{\\left (\\alpha \\right )} & 0\\\\- \\sin{\\left (\\beta \\right )} & \\sin{\\left (\\alpha \\right )} \\cos{\\left (\\beta \\right )} & \\cos{\\left (\\alpha \\right )} \\cos{\\left (\\beta \\right )} & 0\\\\0 & 0 & 0 & 1\\end{matrix}\\right]$$"
      ],
      "text/plain": [
       "⎡cos(β)⋅cos(γ)  sin(α)⋅sin(β)⋅cos(γ) - sin(γ)⋅cos(α)  sin(α)⋅sin(γ) + sin(β)⋅c\n",
       "⎢                                                                             \n",
       "⎢sin(γ)⋅cos(β)  sin(α)⋅sin(β)⋅sin(γ) + cos(α)⋅cos(γ)  -sin(α)⋅cos(γ) + sin(β)⋅\n",
       "⎢                                                                             \n",
       "⎢   -sin(β)                sin(α)⋅cos(β)                          cos(α)⋅cos(β\n",
       "⎢                                                                             \n",
       "⎣      0                         0                                      0     \n",
       "\n",
       "os(α)⋅cos(γ)   0⎤\n",
       "                ⎥\n",
       "sin(γ)⋅cos(α)  0⎥\n",
       "                ⎥\n",
       ")              0⎥\n",
       "                ⎥\n",
       "               1⎦"
      ]
     },
     "execution_count": 71,
     "metadata": {},
     "output_type": "execute_result"
    }
   ],
   "source": [
    "H = tf.RzSym(gamma) * tf.RySym(beta) * tf.RxSym(alpha)\n",
    "H"
   ]
  },
  {
   "cell_type": "code",
   "execution_count": 72,
   "metadata": {},
   "outputs": [
    {
     "data": {
      "image/png": "[encoded data removed]",
      "text/latex": [
       "$$\\left[\\begin{matrix}\\cos{\\left (\\beta \\right )} \\cos{\\left (\\gamma \\right )} & \\sin{\\left (\\alpha \\right )} \\sin{\\left (\\beta \\right )} \\cos{\\left (\\gamma \\right )} - \\sin{\\left (\\gamma \\right )} \\cos{\\left (\\alpha \\right )} & \\sin{\\left (\\alpha \\right )} \\sin{\\left (\\gamma \\right )} + \\sin{\\left (\\beta \\right )} \\cos{\\left (\\alpha \\right )} \\cos{\\left (\\gamma \\right )} & x \\cos{\\left (\\beta \\right )} \\cos{\\left (\\gamma \\right )} + y \\left(\\sin{\\left (\\alpha \\right )} \\sin{\\left (\\beta \\right )} \\cos{\\left (\\gamma \\right )} - \\sin{\\left (\\gamma \\right )} \\cos{\\left (\\alpha \\right )}\\right) + z \\left(\\sin{\\left (\\alpha \\right )} \\sin{\\left (\\gamma \\right )} + \\sin{\\left (\\beta \\right )} \\cos{\\left (\\alpha \\right )} \\cos{\\left (\\gamma \\right )}\\right)\\\\\\sin{\\left (\\gamma \\right )} \\cos{\\left (\\beta \\right )} & \\sin{\\left (\\alpha \\right )} \\sin{\\left (\\beta \\right )} \\sin{\\left (\\gamma \\right )} + \\cos{\\left (\\alpha \\right )} \\cos{\\left (\\gamma \\right )} & - \\sin{\\left (\\alpha \\right )} \\cos{\\left (\\gamma \\right )} + \\sin{\\left (\\beta \\right )} \\sin{\\left (\\gamma \\right )} \\cos{\\left (\\alpha \\right )} & x \\sin{\\left (\\gamma \\right )} \\cos{\\left (\\beta \\right )} + y \\left(\\sin{\\left (\\alpha \\right )} \\sin{\\left (\\beta \\right )} \\sin{\\left (\\gamma \\right )} + \\cos{\\left (\\alpha \\right )} \\cos{\\left (\\gamma \\right )}\\right) + z \\left(- \\sin{\\left (\\alpha \\right )} \\cos{\\left (\\gamma \\right )} + \\sin{\\left (\\beta \\right )} \\sin{\\left (\\gamma \\right )} \\cos{\\left (\\alpha \\right )}\\right)\\\\- \\sin{\\left (\\beta \\right )} & \\sin{\\left (\\alpha \\right )} \\cos{\\left (\\beta \\right )} & \\cos{\\left (\\alpha \\right )} \\cos{\\left (\\beta \\right )} & - x \\sin{\\left (\\beta \\right )} + y \\sin{\\left (\\alpha \\right )} \\cos{\\left (\\beta \\right )} + z \\cos{\\left (\\alpha \\right )} \\cos{\\left (\\beta \\right )}\\\\0 & 0 & 0 & 1\\end{matrix}\\right]$$"
      ],
      "text/plain": [
       "⎡cos(β)⋅cos(γ)  sin(α)⋅sin(β)⋅cos(γ) - sin(γ)⋅cos(α)  sin(α)⋅sin(γ) + sin(β)⋅c\n",
       "⎢                                                                             \n",
       "⎢sin(γ)⋅cos(β)  sin(α)⋅sin(β)⋅sin(γ) + cos(α)⋅cos(γ)  -sin(α)⋅cos(γ) + sin(β)⋅\n",
       "⎢                                                                             \n",
       "⎢   -sin(β)                sin(α)⋅cos(β)                          cos(α)⋅cos(β\n",
       "⎢                                                                             \n",
       "⎣      0                         0                                      0     \n",
       "\n",
       "os(α)⋅cos(γ)   x⋅cos(β)⋅cos(γ) + y⋅(sin(α)⋅sin(β)⋅cos(γ) - sin(γ)⋅cos(α)) + z⋅\n",
       "                                                                              \n",
       "sin(γ)⋅cos(α)  x⋅sin(γ)⋅cos(β) + y⋅(sin(α)⋅sin(β)⋅sin(γ) + cos(α)⋅cos(γ)) + z⋅\n",
       "                                                                              \n",
       ")                                          -x⋅sin(β) + y⋅sin(α)⋅cos(β) + z⋅cos\n",
       "                                                                              \n",
       "                                                                 1            \n",
       "\n",
       "(sin(α)⋅sin(γ) + sin(β)⋅cos(α)⋅cos(γ)) ⎤\n",
       "                                       ⎥\n",
       "(-sin(α)⋅cos(γ) + sin(β)⋅sin(γ)⋅cos(α))⎥\n",
       "                                       ⎥\n",
       "(α)⋅cos(β)                             ⎥\n",
       "                                       ⎥\n",
       "                                       ⎦"
      ]
     },
     "execution_count": 72,
     "metadata": {},
     "output_type": "execute_result"
    }
   ],
   "source": [
    "hMotionSym = tf.RzSym(gamma) * tf.RySym(beta) * tf.RxSym(alpha) * tf.Tx(x) * tf.Ty(y) * tf.Tz(z)\n",
    "hMotionSym"
   ]
  },
  {
   "cell_type": "code",
   "execution_count": 73,
   "metadata": {},
   "outputs": [
    {
     "data": {
      "text/latex": [
       "\\begin{bmatrix}\n",
       "  1. & 0. & 0. & 0.\\\\\n",
       "  0. & 0.70710678 & -0.70710678 & 0.\\\\\n",
       "  0. & 0.70710678 & 0.70710678 & 0.\\\\\n",
       "  0. & 0. & 0. & 1.\\\\\n",
       "\\end{bmatrix}"
      ],
      "text/plain": [
       "<IPython.core.display.Latex object>"
      ]
     },
     "metadata": {},
     "output_type": "display_data"
    }
   ],
   "source": [
    "H = tf.Rx(np.pi/4)\n",
    "tf.print(H)"
   ]
  },
  {
   "cell_type": "code",
   "execution_count": 74,
   "metadata": {},
   "outputs": [
    {
     "data": {
      "text/latex": [
       "\\begin{bmatrix}\n",
       "  0.70710678 & 0. & 0.70710678 & 0.\\\\\n",
       "  0. & 1. & 0. & 0.\\\\\n",
       "  -0.70710678 & 0. & 0.70710678 & 0.\\\\\n",
       "  0. & 0. & 0. & 1.\\\\\n",
       "\\end{bmatrix}"
      ],
      "text/plain": [
       "<IPython.core.display.Latex object>"
      ]
     },
     "metadata": {},
     "output_type": "display_data"
    }
   ],
   "source": [
    "H = tf.Ry(np.pi/4)\n",
    "tf.print(H)"
   ]
  },
  {
   "cell_type": "code",
   "execution_count": 75,
   "metadata": {},
   "outputs": [
    {
     "data": {
      "text/latex": [
       "\\begin{bmatrix}\n",
       "  0.70710678 & -0.70710678 & 0. & 0.\\\\\n",
       "  0.70710678 & 0.70710678 & 0. & 0.\\\\\n",
       "  0. & 0. & 1. & 0.\\\\\n",
       "  0. & 0. & 0. & 1.\\\\\n",
       "\\end{bmatrix}"
      ],
      "text/plain": [
       "<IPython.core.display.Latex object>"
      ]
     },
     "metadata": {},
     "output_type": "display_data"
    }
   ],
   "source": [
    "H = tf.Rz(np.pi/4)\n",
    "tf.print(H)"
   ]
  },
  {
   "cell_type": "code",
   "execution_count": 76,
   "metadata": {},
   "outputs": [
    {
     "data": {
      "text/latex": [
       "\\begin{bmatrix}\n",
       "  0.5720614 & 0.20152708 & 0.79506766 & 0.\\\\\n",
       "  0.41562694 & 0.76445198 & -0.4928158 & 0.\\\\\n",
       "  -0.70710678 & 0.61237244 & 0.35355339 & 0.\\\\\n",
       "  0. & 0. & 0. & 1.\\\\\n",
       "\\end{bmatrix}"
      ],
      "text/plain": [
       "<IPython.core.display.Latex object>"
      ]
     },
     "metadata": {},
     "output_type": "display_data"
    }
   ],
   "source": [
    "H = tf.Rz(np.pi/5) * tf.Ry(np.pi/4) * tf.Rx(np.pi/3)\n",
    "tf.print(H)"
   ]
  },
  {
   "cell_type": "code",
   "execution_count": 77,
   "metadata": {},
   "outputs": [
    {
     "data": {
      "text/latex": [
       "\\begin{bmatrix}\n",
       "  0.5720614 & 0.20152708 & 0.79506766 & 6.05161832\\\\\n",
       "  0.41562694 & 0.76445198 & -0.4928158 & 3.65749522\\\\\n",
       "  -0.70710678 & 0.61237244 & 0.35355339 & -0.02538399\\\\\n",
       "  0. & 0. & 0. & 1.\\\\\n",
       "\\end{bmatrix}"
      ],
      "text/plain": [
       "<IPython.core.display.Latex object>"
      ]
     },
     "metadata": {},
     "output_type": "display_data"
    }
   ],
   "source": [
    "hMotion = tf.Rz(np.pi/5) * tf.Ry(np.pi/4) * tf.Rx(np.pi/3) * tf.Tx(5) * tf.Ty(4) * tf.Tz(3)\n",
    "tf.print(hMotion)"
   ]
  },
  {
   "cell_type": "code",
   "execution_count": 80,
   "metadata": {},
   "outputs": [
    {
     "data": {
      "image/png": "[encoded data removed]",
      "text/latex": [
       "$$\\left[\\begin{matrix}0.572061402817684 & 0.201527081218441 & 0.795067661863969 & 6.05161832455409\\\\0.415626937777453 & 0.764451983799883 & -0.49281580033331 & 3.65749522308687\\\\-0.707106781186547 & 0.612372435695795 & 0.353553390593274 & -0.0253839913697371\\\\0 & 0 & 0 & 1\\end{matrix}\\right]$$"
      ],
      "text/plain": [
       "⎡0.572061402817684   0.201527081218441  0.795067661863969   6.05161832455409  \n",
       "⎢                                                                             \n",
       "⎢0.415626937777453   0.764451983799883  -0.49281580033331   3.65749522308687  \n",
       "⎢                                                                             \n",
       "⎢-0.707106781186547  0.612372435695795  0.353553390593274  -0.0253839913697371\n",
       "⎢                                                                             \n",
       "⎣        0                   0                  0                   1         \n",
       "\n",
       "⎤\n",
       "⎥\n",
       "⎥\n",
       "⎥\n",
       "⎥\n",
       "⎥\n",
       "⎦"
      ]
     },
     "execution_count": 80,
     "metadata": {},
     "output_type": "execute_result"
    }
   ],
   "source": [
    "hMotionSymSubs = hMotionSym.subs([(x, 5), (y, 4), (z, 3), (x, 5), (alpha, np.pi/3), (beta, np.pi/4), (gamma, np.pi/5)])\n",
    "hMotionSymSubs"
   ]
  },
  {
   "cell_type": "markdown",
   "metadata": {},
   "source": [
    "We have all transformation matrix in numerical and symbolic form"
   ]
  },
  {
   "cell_type": "code",
   "execution_count": 81,
   "metadata": {},
   "outputs": [
    {
     "data": {
      "image/png": "[encoded data removed]",
      "text/latex": [
       "$$\\left[\\begin{matrix}0.572061402817684 x + 0.201527081218441 y + 0.795067661863969 z + 6.05161832455409\\\\0.415626937777453 x + 0.764451983799883 y - 0.49281580033331 z + 3.65749522308687\\\\- 0.707106781186547 x + 0.612372435695795 y + 0.353553390593274 z - 0.0253839913697371\\\\1\\end{matrix}\\right]$$"
      ],
      "text/plain": [
       "⎡ 0.572061402817684⋅x + 0.201527081218441⋅y + 0.795067661863969⋅z + 6.05161832\n",
       "⎢                                                                             \n",
       "⎢  0.415626937777453⋅x + 0.764451983799883⋅y - 0.49281580033331⋅z + 3.65749522\n",
       "⎢                                                                             \n",
       "⎢-0.707106781186547⋅x + 0.612372435695795⋅y + 0.353553390593274⋅z - 0.02538399\n",
       "⎢                                                                             \n",
       "⎣                                          1                                  \n",
       "\n",
       "455409  ⎤\n",
       "        ⎥\n",
       "308687  ⎥\n",
       "        ⎥\n",
       "13697371⎥\n",
       "        ⎥\n",
       "        ⎦"
      ]
     },
     "execution_count": 81,
     "metadata": {},
     "output_type": "execute_result"
    }
   ],
   "source": [
    "hMotionSymSubs * tf.getVector(x,y,z)"
   ]
  },
  {
   "cell_type": "code",
   "execution_count": 82,
   "metadata": {},
   "outputs": [
    {
     "data": {
      "text/plain": [
       "matrix([[ 0.572061402817684*x + 0.201527081218441*y + 0.795067661863969*z + 6.05161832455409],\n",
       "        [ 0.415626937777453*x + 0.764451983799883*y - 0.49281580033331*z + 3.65749522308687],\n",
       "        [ -0.707106781186548*x + 0.612372435695795*y + 0.353553390593274*z - 0.025383991369738],\n",
       "        [1.00000000000000]], dtype=object)"
      ]
     },
     "execution_count": 82,
     "metadata": {},
     "output_type": "execute_result"
    }
   ],
   "source": [
    "hMotion * tf.getVector(x,y,z)"
   ]
  },
  {
   "cell_type": "code",
   "execution_count": null,
   "metadata": {
    "collapsed": true
   },
   "outputs": [],
   "source": []
  }
 ],
 "metadata": {
  "kernelspec": {
   "display_name": "Python 3",
   "language": "python",
   "name": "python3"
  },
  "language_info": {
   "codemirror_mode": {
    "name": "ipython",
    "version": 3
   },
   "file_extension": ".py",
   "mimetype": "text/x-python",
   "name": "python",
   "nbconvert_exporter": "python",
   "pygments_lexer": "ipython3",
   "version": "3.6.3"
  }
 },
 "nbformat": 4,
 "nbformat_minor": 2
}
