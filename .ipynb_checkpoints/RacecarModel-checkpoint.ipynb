{
 "cells": [
  {
   "cell_type": "markdown",
   "metadata": {},
   "source": [
    "## Racecar model"
   ]
  },
  {
   "cell_type": "code",
   "execution_count": 22,
   "metadata": {
    "collapsed": true
   },
   "outputs": [],
   "source": [
    "import matplotlib.pyplot as plt\n",
    "from mpl_toolkits.mplot3d import Axes3D\n",
    "import numpy as np"
   ]
  },
  {
   "cell_type": "code",
   "execution_count": 23,
   "metadata": {
    "collapsed": true
   },
   "outputs": [],
   "source": [
    "from IPython.display import Latex\n",
    "\n",
    "from sympy import init_printing\n",
    "init_printing()\n",
    "\n",
    "%matplotlib inline"
   ]
  },
  {
   "cell_type": "code",
   "execution_count": 24,
   "metadata": {
    "collapsed": true
   },
   "outputs": [],
   "source": [
    "#    Returns a LaTeX bmatrix\n",
    "\n",
    "#   :a: numpy array\n",
    "#   :returns: LaTeX bmatrix as a string\n",
    "def matrix2Latex(a):\n",
    "    if len(a.shape) > 2:\n",
    "        raise ValueError('bmatrix can at most display two dimensions')\n",
    "    lines = str(a).replace('[', '').replace(']', '').splitlines()\n",
    "    rv = [r'\\begin{bmatrix}']\n",
    "    rv += ['  ' + ' & '.join(l.split()) + r'\\\\' for l in lines]\n",
    "    rv +=  [r'\\end{bmatrix}']\n",
    "    return '\\n'.join(rv)\n",
    "\n",
    "def printMatrix(a):\n",
    "    display(Latex(matrix2Latex(a)))"
   ]
  },
  {
   "cell_type": "markdown",
   "metadata": {},
   "source": [
    "### Parameters of Car"
   ]
  },
  {
   "cell_type": "code",
   "execution_count": 25,
   "metadata": {
    "collapsed": true
   },
   "outputs": [],
   "source": [
    "sizeOfMap = 1.5\n",
    "rWheel=0.05\n",
    "hWheel=0.025\n",
    "\n",
    "wheelBase = 0.325\n",
    "track = 0.2\n",
    "\n",
    "steer_angle = 0\n",
    "deltaT = 1"
   ]
  },
  {
   "cell_type": "markdown",
   "metadata": {},
   "source": [
    "### Homogeneous transformations "
   ]
  },
  {
   "cell_type": "code",
   "execution_count": 26,
   "metadata": {
    "collapsed": true
   },
   "outputs": [],
   "source": [
    "def getMatrix(x11,x12,x13,x14,\n",
    "              x21,x22,x23,x24,\n",
    "              x31,x32,x33,x34):\n",
    "    return np.matrix(((x11,x12,x13,x14),\n",
    "                      (x21,x22,x23,x24),\n",
    "                      (x31,x32,x33,x34),\n",
    "                      (0  ,0  ,0  ,1)))\n",
    "\n",
    "def getVector(x11,x12,x13):\n",
    "    return np.matrix([x11,x12,x13,1]).T"
   ]
  },
  {
   "cell_type": "code",
   "execution_count": 27,
   "metadata": {},
   "outputs": [
    {
     "data": {
      "text/latex": [
       "\\begin{bmatrix}\n",
       "  1 & 2 & 3 & 4\\\\\n",
       "  5 & 6 & 7 & 8\\\\\n",
       "  9 & 10 & 11 & 12\\\\\n",
       "  0 & 0 & 0 & 1\\\\\n",
       "\\end{bmatrix}"
      ],
      "text/plain": [
       "<IPython.core.display.Latex object>"
      ]
     },
     "metadata": {},
     "output_type": "display_data"
    },
    {
     "data": {
      "text/latex": [
       "\\begin{bmatrix}\n",
       "  1\\\\\n",
       "  2\\\\\n",
       "  3\\\\\n",
       "  1\\\\\n",
       "\\end{bmatrix}"
      ],
      "text/plain": [
       "<IPython.core.display.Latex object>"
      ]
     },
     "metadata": {},
     "output_type": "display_data"
    }
   ],
   "source": [
    "M = getMatrix(1,2,3,4,5,6,7,8,9,10,11,12)\n",
    "printMatrix(M)\n",
    "V = getVector(1,2,3)\n",
    "printMatrix(V)"
   ]
  },
  {
   "cell_type": "code",
   "execution_count": 28,
   "metadata": {
    "collapsed": true
   },
   "outputs": [],
   "source": [
    "O = getVector(0, 0, 0)\n",
    "I = getVector(1, 0, 0)\n",
    "J = getVector(0, 1, 0)\n",
    "K = getVector(0, 0, 1)\n",
    "\n",
    "fig = 0\n",
    "ax = 0"
   ]
  },
  {
   "cell_type": "code",
   "execution_count": 29,
   "metadata": {
    "collapsed": true
   },
   "outputs": [],
   "source": [
    "def Rx(theta):\n",
    "    c, s = np.cos(theta), np.sin(theta)\n",
    "    R = getMatrix(1, 0, 0, 0,\n",
    "                  0, c,-s, 0,\n",
    "                  0, s, c, 0)\n",
    "    return R\n",
    "\n",
    "def Ry(theta):\n",
    "    c, s = np.cos(theta), np.sin(theta)\n",
    "    R = getMatrix( c, 0, s, 0,\n",
    "                   0, 1, 0, 0,\n",
    "                  -s, 0, c, 0)\n",
    "    return R\n",
    "\n",
    "def Rz(theta):\n",
    "    c, s = np.cos(theta), np.sin(theta)\n",
    "    R = getMatrix(c,-s, 0, 0,\n",
    "                  s, c, 0, 0,\n",
    "                  0, 0, 1, 0)\n",
    "    return R\n",
    "\n",
    "def Tx(x):\n",
    "    T= getMatrix(1, 0, 0, x,\n",
    "                 0, 1, 0, 0,\n",
    "                 0, 0, 1, 0)\n",
    "    return T\n",
    "\n",
    "def Ty(y):\n",
    "    T= getMatrix(1, 0, 0, 0,\n",
    "                 0, 1, 0, y,\n",
    "                 0, 0, 1, 0)\n",
    "    return T\n",
    "\n",
    "def Tz(z):\n",
    "    T= getMatrix(1, 0, 0, 0,\n",
    "                 0, 1, 0, 0,\n",
    "                 0, 0, 1, z)\n",
    "    return T\n",
    "\n",
    "def T(v):\n",
    "    v = v.getA()\n",
    "    T= getMatrix(1, 0, 0, v[0],\n",
    "                 0, 1, 0, v[1],\n",
    "                 0, 0, 1, v[2])\n",
    "    return T"
   ]
  },
  {
   "cell_type": "markdown",
   "metadata": {},
   "source": [
    "### Matplotlib visualization"
   ]
  },
  {
   "cell_type": "code",
   "execution_count": 30,
   "metadata": {
    "collapsed": true
   },
   "outputs": [],
   "source": [
    "def vectorInLine(start, end):\n",
    "    return np.concatenate((np.ravel(start.getA().T), np.ravel(end.getA().T)))"
   ]
  },
  {
   "cell_type": "code",
   "execution_count": 31,
   "metadata": {
    "collapsed": true
   },
   "outputs": [],
   "source": [
    "## plot Reference Frame\n",
    "def plotRF(H = np.eye(4), length = 0.1):\n",
    "    o = H*O\n",
    "    i = H*I\n",
    "    j = H*J\n",
    "    k = H*K\n",
    "    soa = np.array([vectorInLine(o,T(-o)*i), vectorInLine(o,T(-o)*j), vectorInLine(o,T(-o)*k)])\n",
    "    X, Y, Z, _, U, V, W, _ = zip(*soa)\n",
    "    plt.quiver(X, Y, Z, U, V, W,\n",
    "               color = ['r', 'g', 'b','r', 'r','g', 'g', 'b','b'], arrow_length_ratio = 0.08, length = length)"
   ]
  },
  {
   "cell_type": "code",
   "execution_count": 32,
   "metadata": {
    "collapsed": true
   },
   "outputs": [],
   "source": [
    "def printCoordinateFrame():\n",
    "    global fig,ax\n",
    "    fig = plt.figure(figsize=(9,5))\n",
    "    ax = fig.add_subplot(111, aspect='equal', projection='3d')\n",
    "    \n",
    "    ticks = np.arange(0, sizeOfMap, 1)\n",
    "    \n",
    "    ax.set_xlim(-sizeOfMap, sizeOfMap)\n",
    "    ax.set_ylim(-sizeOfMap, sizeOfMap)\n",
    "    ax.set_zlim(0, 2*sizeOfMap)\n",
    "    \n",
    "    ax.set_xlabel('X axis')\n",
    "    ax.set_ylabel('Y axis')\n",
    "    ax.set_zlabel('Z axis')\n",
    "    \n",
    "    ax.view_init(azim=180, elev=90)\n",
    "    ax.zaxis.set_ticklabels([])\n",
    "    plotRF(length=1)"
   ]
  },
  {
   "cell_type": "code",
   "execution_count": 33,
   "metadata": {
    "collapsed": true
   },
   "outputs": [],
   "source": [
    "def plotRobot(x, y, theta, steerAngle):\n",
    "    printCoordinateFrame()\n",
    "    \n",
    "    z=rWheel\n",
    "    Hbaselink =  Tx(x) * Ty(y) * Tz(z) * Rz(theta) \n",
    "    plotRF(Hbaselink)\n",
    "        \n",
    "    HbaseEnd = Hbaselink * Tx(wheelBase)\n",
    "    #plotRF(HbaseEnd)\n",
    "        \n",
    "    HwheelLeftFrontHinge = HbaseEnd * Ty(track/2)\n",
    "    #plotRF(HwheelLeftFrontHinge)\n",
    "    \n",
    "    HwheelRightFrontHinge = HbaseEnd * Ty(-track/2)\n",
    "    #plotRF(HwheelRightFrontHinge)\n",
    "    \n",
    "    HwheelLeftFront = HwheelLeftFrontHinge * Rz(steerAngle)\n",
    "    plotRF(HwheelLeftFront)\n",
    "    \n",
    "    HwheelRightFront = HwheelRightFrontHinge * Rz(steerAngle)\n",
    "    plotRF(HwheelRightFront)\n",
    "    \n",
    "    \n",
    "    HwheelLeftRearHinge = Hbaselink * Ty(track/2)\n",
    "    #plotRF(HwheelLeftRearHinge)\n",
    "    \n",
    "    HwheelRightRearHinge = Hbaselink * Ty(-track/2)\n",
    "    #plotRF(HwheelRightRearHinge)\n",
    "    \n",
    "    HwheelLeftRear = HwheelLeftRearHinge\n",
    "    plotRF(HwheelLeftRear)\n",
    "    \n",
    "    HwheelRightRear = HwheelRightRearHinge\n",
    "    plotRF(HwheelRightRear)"
   ]
  },
  {
   "cell_type": "code",
   "execution_count": 34,
   "metadata": {},
   "outputs": [
    {
     "data": {
      "image/png": "[encoded data removed]",
      "text/plain": [
       "<matplotlib.figure.Figure at 0x1890a250b00>"
      ]
     },
     "metadata": {},
     "output_type": "display_data"
    }
   ],
   "source": [
    "theta = - np.pi/3\n",
    "steerAngle = -np.pi/8\n",
    "plotRobot(0.5,0.5, theta,steerAngle)"
   ]
  },
  {
   "cell_type": "markdown",
   "metadata": {},
   "source": [
    "## Work on 3d graphics"
   ]
  },
  {
   "cell_type": "code",
   "execution_count": 35,
   "metadata": {
    "collapsed": true
   },
   "outputs": [],
   "source": [
    "from pythreejs import *"
   ]
  },
  {
   "cell_type": "code",
   "execution_count": 36,
   "metadata": {
    "collapsed": true
   },
   "outputs": [],
   "source": [
    "from IPython.display import display\n",
    "from ipywidgets import HTML, Text\n",
    "from traitlets import link, dlink"
   ]
  },
  {
   "cell_type": "markdown",
   "metadata": {},
   "source": [
    "##### Function for ploting world."
   ]
  },
  {
   "cell_type": "code",
   "execution_count": 37,
   "metadata": {
    "collapsed": true
   },
   "outputs": [],
   "source": [
    "def getOrigin(r = 0.025, color = 'yellow', X=[0, 0, 0]):\n",
    "    origin = Mesh(geometry=SphereGeometry(radius=r), \n",
    "                                          material=MeshLambertMaterial(color=color),\n",
    "                                          position=X)\n",
    "    return origin\n",
    "\n",
    "def tf(rf, H):    \n",
    "    \n",
    "    v = H * O\n",
    "    v = (np.ravel(v.getA())[0:3])\n",
    "    rf.position = (v[0], v[1], v[2])\n",
    "    \n",
    "    \n",
    "    R = H.getA()[0:3,0:3].T.ravel()\n",
    "    rf.setRotationFromMatrix(R)\n",
    "    \n",
    "    return rf \n",
    "\n",
    "def getJ(length = 0.2, arrowLengthRatio = 0.1, color = 'green'):\n",
    "    \n",
    "    arrowLength = length * arrowLengthRatio\n",
    "    lineLength = length - arrowLength\n",
    "\n",
    "    rLine = length/150\n",
    "    rArrow = length/50\n",
    "\n",
    "    line = Mesh(geometry=CylinderGeometry(radiusTop=rLine,\n",
    "                                          radiusBottom=rLine,\n",
    "                                          height=lineLength), \n",
    "                                          material=MeshLambertMaterial(color=color),\n",
    "                                          position=[0, lineLength/2, 0])\n",
    "\n",
    "    arrow = Mesh(geometry=CylinderGeometry(radiusTop=0,\n",
    "                                           radiusBottom=rArrow,\n",
    "                                           height=arrowLength), \n",
    "                                           material=MeshLambertMaterial(color=color),\n",
    "                                           position=[0, (lineLength+arrowLength)/2, 0])\n",
    "    \n",
    "    origin = getOrigin()\n",
    "    origin.add(children=line)\n",
    "    line.add(children=arrow)\n",
    "\n",
    "    return origin\n",
    "\n",
    "def getK(length = 0.2):\n",
    "    k = getJ(length = length, color = 'blue')\n",
    "    return tf(k, Rx(np.pi/2))\n",
    "\n",
    "def getI(length = 0.2):\n",
    "    k = getJ(length = length, color = 'red')\n",
    "    return tf(k, Rz(-np.pi/2))\n",
    "\n",
    "def getCoordinateFrame(length = 0.2):\n",
    "    origin = getOrigin()\n",
    "    ortK = getK(length = length)\n",
    "    ortI = getI(length = length)\n",
    "    ortJ = getJ(length = length)\n",
    "\n",
    "    origin.add(ortK)\n",
    "    origin.add(ortI)\n",
    "    origin.add(ortJ)\n",
    "    \n",
    "    return origin\n",
    "\n",
    "def plot3D(rf):\n",
    "    scene = Scene()\n",
    "    \n",
    "    tf(rf, Rx(-np.pi/2))\n",
    "\n",
    "    key_light = [DirectionalLight(color='#ffffff', intensity=0.6, position=[10,10,10])]\n",
    "    ambient_light = [AmbientLight(color='#777777')]\n",
    "\n",
    "    scene.add(rf)\n",
    "    scene.add(key_light)\n",
    "    scene.add(ambient_light)\n",
    "\n",
    "    c = PerspectiveCamera(position=[2, 2, 2])\n",
    "    renderer = Renderer(camera=c, background='black', background_opacity=1,\n",
    "                        scene=scene, controls=[OrbitControls(controlling=c)],\n",
    "                        width=800, height=800)\n",
    "    display(renderer)\n",
    "\n",
    "def rf(H):\n",
    "    origin = getCoordinateFrame()\n",
    "    tf(origin,H)\n",
    "    return origin"
   ]
  },
  {
   "cell_type": "markdown",
   "metadata": {},
   "source": [
    "##### Functions for ploting objects of the world"
   ]
  },
  {
   "cell_type": "code",
   "execution_count": 38,
   "metadata": {
    "collapsed": true
   },
   "outputs": [],
   "source": [
    "def getLine(X1,X2,color='black'):\n",
    "    linegeom = Geometry(vertices=[X1,X2],colors = [color, color])\n",
    "    line = Line(geometry=linegeom, \n",
    "                 material=LineBasicMaterial(linewidth=20, vertexColors='VertexColors'), \n",
    "                 type='LinePieces',\n",
    "                )\n",
    "    return line\n",
    "\n",
    "def getCylinder(length, r1,r2, color):\n",
    "    cylinder = Mesh(geometry=CylinderGeometry(radiusTop=r1,\n",
    "                                              radiusBottom=r2,\n",
    "                                              height=length), \n",
    "                                              material=MeshLambertMaterial(color=color),\n",
    "                                              position=[0, 0, 0])\n",
    "    return cylinder\n",
    "\n",
    "def getGrid(size = 10):\n",
    "    world = getOrigin()\n",
    "    \n",
    "    h=size/2\n",
    "    for xi in np.arange(-h,h+1,1):\n",
    "        X1 = [xi, -h, 0]\n",
    "        X2 = [xi, h, 0]\n",
    "        world.add(getLine(X1,X2))\n",
    "    \n",
    "    for yi in np.arange(-h,h+1,1):\n",
    "        X1 = [-h, yi, 0]\n",
    "        X2 = [ h, yi, 0]\n",
    "        world.add(getLine(X1,X2))\n",
    "    return world\n",
    "\n",
    "def getWheel(r = rWheel, h = hWheel):\n",
    "    wheel = Mesh(geometry=CylinderGeometry(\n",
    "                                radiusTop=r,\n",
    "                                radiusBottom=r,\n",
    "                                height=h,\n",
    "                                ), \n",
    "                               material=MeshLambertMaterial(color='black'),\n",
    "                               position=[0, 0, 0])\n",
    "    return wheel\n",
    "\n",
    "def putWheel(H):\n",
    "    wheel=getWheel()\n",
    "    tf(wheel, H)\n",
    "    return wheel\n",
    "\n",
    "\n",
    "def putCylinder(length, H, r1=0.01, r2 =0.01, color = 'orange'):\n",
    "    cylinder = getCylinder(length, r1, r2, color)\n",
    "    tf(cylinder, H)\n",
    "    return cylinder \n",
    "\n",
    "def putPlane(H, size = 10, color ='#e0e0e0'):\n",
    "    plane = Mesh(geometry=PlaneGeometry(\n",
    "                                            width=size,\n",
    "                                            height=size), \n",
    "                                            material=MeshLambertMaterial(color=color),\n",
    "                                            position=[0, 0, 0])\n",
    "    tf(plane,H)\n",
    "    return plane"
   ]
  },
  {
   "cell_type": "markdown",
   "metadata": {},
   "source": [
    "##### Ackermann steering model"
   ]
  },
  {
   "cell_type": "code",
   "execution_count": 61,
   "metadata": {
    "collapsed": true
   },
   "outputs": [],
   "source": [
    "def getRadius(alpha):\n",
    "    r = wheelBase/np.tan(alpha)\n",
    "    return r\n",
    "\n",
    "def getRadiusInner(alpha):\n",
    "    r = getRadius(alpha)\n",
    "    return (r - track/2)\n",
    "\n",
    "def getRadiusOuter(alpha):\n",
    "    r = getRadius(alpha)\n",
    "    return (r + track/2)\n",
    "\n",
    "def getSteerAngles(alpha):\n",
    "    r = getRadius(alpha)\n",
    "    alphaInner = np.arctan(wheelBase/(getRadiusInner(alpha)))\n",
    "    alphaOuter = np.arctan(wheelBase/(getRadiusOuter(alpha)))\n",
    "    \n",
    "    return [alphaInner, alphaOuter]\n",
    "\n",
    "def getWheelLine(Hwheel, r):\n",
    "    X1 = Hwheel * O \n",
    "    X2 = Hwheel * Ty(r) * O\n",
    "    \n",
    "    X1 = (np.ravel(X1.getA())[0:3]).tolist()\n",
    "    X2 = (np.ravel(X2.getA())[0:3]).tolist()\n",
    "\n",
    "    return getLine(X1, X2, color='green')  \n",
    "\n",
    "def getICR(H):\n",
    "    point = getOrigin(r = 0.015)\n",
    "    tf(point,H ) \n",
    "    return point"
   ]
  },
  {
   "cell_type": "markdown",
   "metadata": {},
   "source": [
    "##### Functions for representation of robot state"
   ]
  },
  {
   "cell_type": "code",
   "execution_count": 72,
   "metadata": {
    "collapsed": true
   },
   "outputs": [],
   "source": [
    "def bicycleModel3d(x, y, theta, steerAngle):\n",
    "    world = getOrigin()\n",
    "    z=rWheel\n",
    "    Hbaselink =  Tx(x) * Ty(y) * Tz(z) * Rz(theta)\n",
    "    world.add(rf(Hbaselink))\n",
    "   \n",
    "    \n",
    "    HbaseEnd =  Hbaselink * Tx(wheelBase) \n",
    "    world.add(tf(getOrigin(),HbaseEnd))\n",
    "       \n",
    "    HwheelCentralFront = HbaseEnd * Rz(steerAngle)\n",
    "    world.add(rf(HwheelCentralFront))\n",
    "    if (steerAngle!=0):\n",
    "        r = getRadius(steerAngle)\n",
    "        Hicr = Hbaselink * Ty(r)\n",
    "        world.add(getICR(Hicr))\n",
    "        world.add(getWheelLine(HwheelCentralFront, r/np.cos(steerAngle)))\n",
    "        world.add(getWheelLine(Hbaselink, r))\n",
    "        \n",
    "    \n",
    "\n",
    "    world.add(putWheel(Hbaselink))\n",
    "    world.add(putWheel(HwheelCentralFront))\n",
    "    \n",
    "    world.add(putCylinder(r1=0.02, r2 = 0.01, length=wheelBase, H = Hbaselink*Tx(wheelBase/2)*Rz(np.pi/2)))\n",
    "\n",
    "    return world"
   ]
  },
  {
   "cell_type": "code",
   "execution_count": 73,
   "metadata": {
    "collapsed": true
   },
   "outputs": [],
   "source": [
    "def robot3d(x, y, theta, steerAngle):\n",
    "    world = getOrigin()\n",
    "    z=rWheel\n",
    "    Hbaselink =  Tx(x) * Ty(y) * Tz(z) * Rz(theta)\n",
    "    world.add(rf(Hbaselink))\n",
    "   \n",
    "    \n",
    "    HbaseEnd =  Hbaselink * Tx(wheelBase) \n",
    "    world.add(tf(getOrigin(),HbaseEnd))\n",
    "    \n",
    "    \n",
    "    HwheelLeftFrontHinge = HbaseEnd * Ty(track/2)\n",
    "    HwheelRightFrontHinge = HbaseEnd * Ty(-track/2)\n",
    "    \n",
    "    Hicr = 0\n",
    "    \n",
    "    if (steerAngle!=0):\n",
    "        r = getRadius(steerAngle)\n",
    "        Hicr = Hbaselink * Ty(r)\n",
    "        world.add(getICR(Hicr))\n",
    "        alphaInner, alphaOuter = getSteerAngles(steerAngle) \n",
    "        world.add(getWheelLine(Hbaselink, getRadius(steerAngle)))\n",
    "        world.add(getICR(Hicr))\n",
    "    else:\n",
    "        alphaInner = steerAngle\n",
    "        alphaOuter = steerAngle\n",
    "        \n",
    "    HwheelLeftFront = HwheelLeftFrontHinge * Rz(alphaInner)\n",
    "    world.add(rf(HwheelLeftFront))\n",
    "    ##world.add(tf(getOrigin(),HwheelLeftFront))\n",
    "    \n",
    "    #HwheelCentralFront = HbaseEnd * Rz(steerAngle)\n",
    "    #world.add(rf(HwheelCentralFront))\n",
    "    #world.add(getWheelLine(HwheelCentralFront, getRadius(steerAngle)/np.cos(steerAngle)))\n",
    "    ##world.add(tf(getOrigin(),HwheelRightFront))\n",
    "    \n",
    "    HwheelRightFront = HwheelRightFrontHinge * Rz(alphaOuter)\n",
    "    world.add(rf(HwheelRightFront))\n",
    "    ##world.add(tf(getOrigin(),HwheelRightFront))\n",
    "    \n",
    "    if (steerAngle!=0):\n",
    "        world.add(getWheelLine(HwheelLeftFront, getRadiusInner(steerAngle)/np.cos(alphaInner)))\n",
    "        world.add(getWheelLine(HwheelRightFront, getRadiusOuter(steerAngle)/np.cos(alphaOuter)))\n",
    "    \n",
    "    \n",
    "    HwheelLeftRearHinge =  Hbaselink * Ty(track/2)\n",
    "   \n",
    "    #world.add(HwheelLeftRearHinge)\n",
    "    \n",
    "    HwheelRightRearHinge =   Hbaselink *  Ty(-track/2) \n",
    "    #world.add(HwheelLeftRearHinge)\n",
    "    \n",
    "    HwheelLeftRear = HwheelLeftRearHinge\n",
    "    ##world.add(rf(HwheelLeftRear))\n",
    "    world.add(tf(getOrigin(),HwheelLeftRear)) \n",
    "        \n",
    "    HwheelRightRear = HwheelRightRearHinge\n",
    "    ##world.add(rf(HwheelRightRear))\n",
    "    world.add(tf(getOrigin(),HwheelRightRear))\n",
    "        \n",
    "    world.add(putWheel(HwheelLeftFront))\n",
    "    world.add(putWheel(HwheelRightFront))\n",
    "    world.add(putWheel(HwheelLeftRear))\n",
    "    world.add(putWheel(HwheelRightRear))\n",
    "    #world.add(putWheel(HwheelCentralFront))\n",
    "    \n",
    "    \n",
    "    world.add(putCylinder(length=track, H = Hbaselink))\n",
    "    world.add(putCylinder(length=track, H = HbaseEnd))\n",
    "    world.add(putCylinder(r1=0.02, r2 = 0.01, length=wheelBase, H = Hbaselink*Tx(wheelBase/2)*Rz(np.pi/2)))\n",
    "    \n",
    "    #plot3D(world)\n",
    "    return world"
   ]
  },
  {
   "cell_type": "markdown",
   "metadata": {},
   "source": [
    "## Test"
   ]
  },
  {
   "cell_type": "code",
   "execution_count": 90,
   "metadata": {},
   "outputs": [],
   "source": [
    "theta = np.pi/11\n",
    "steerAngle = -np.pi/4\n",
    "flushWorld()\n",
    "world.add(robot3d(0.3,0.5, theta,steerAngle))"
   ]
  },
  {
   "cell_type": "code",
   "execution_count": 89,
   "metadata": {},
   "outputs": [],
   "source": [
    "flushWorld()\n",
    "world.add(bicycleModel3d(0.3,0.5, theta,steerAngle))"
   ]
  },
  {
   "cell_type": "code",
   "execution_count": 54,
   "metadata": {},
   "outputs": [
    {
     "data": {
      "application/vnd.jupyter.widget-view+json": {
       "model_id": "5daa83f1938a41199cbc337daad6a6d7",
       "version_major": 2,
       "version_minor": 0
      },
      "text/plain": [
       "A Jupyter Widget"
      ]
     },
     "metadata": {},
     "output_type": "display_data"
    }
   ],
   "source": [
    "plotWorld()"
   ]
  },
  {
   "cell_type": "markdown",
   "metadata": {},
   "source": [
    "## Animation"
   ]
  },
  {
   "cell_type": "code",
   "execution_count": 42,
   "metadata": {
    "collapsed": true
   },
   "outputs": [],
   "source": [
    "def flushWorld():\n",
    "    global world\n",
    "    world.children = [getCoordinateFrame(length = 1),getGrid(),putPlane(Tz(-0.01))]\n",
    "    \n",
    "    #world.add(getOrigin(color='red', X=[1,0,0]))\n",
    "    #world.add(getOrigin(color='green',X=[0,1,0]))\n",
    "    #world.add(getOrigin(color='blue',X=[0,0,1]))\n",
    "    \n",
    "def plotWorld():\n",
    "    global world\n",
    "    world = getOrigin()\n",
    "    \n",
    "    flushWorld()\n",
    "    \n",
    "    scene = Scene()\n",
    "    \n",
    "    tf(world, Rx(-np.pi/2))\n",
    "\n",
    "    key_light = [DirectionalLight(color='#ffffff', intensity=0.6, position=[10,10,10])]\n",
    "    ambient_light = [AmbientLight(color='#777777')]\n",
    "\n",
    "    scene.add(world)\n",
    "    scene.add(key_light)\n",
    "    scene.add(ambient_light)\n",
    "\n",
    "    c = PerspectiveCamera(position=[2, 2, 2])\n",
    "    renderer = Renderer(camera=c, background='black', background_opacity=1,\n",
    "                        scene=scene, controls=[OrbitControls(controlling=c)],\n",
    "                        width=800, height=800)\n",
    "    display(renderer)"
   ]
  },
  {
   "cell_type": "code",
   "execution_count": null,
   "metadata": {
    "scrolled": false
   },
   "outputs": [],
   "source": [
    "plotWorld()"
   ]
  },
  {
   "cell_type": "markdown",
   "metadata": {},
   "source": [
    "## Test of Animation"
   ]
  },
  {
   "cell_type": "code",
   "execution_count": 46,
   "metadata": {
    "collapsed": true
   },
   "outputs": [],
   "source": [
    "import time"
   ]
  },
  {
   "cell_type": "code",
   "execution_count": 112,
   "metadata": {
    "scrolled": true
   },
   "outputs": [
    {
     "data": {
      "image/png": "[encoded data removed]",
      "text/plain": [
       "<matplotlib.figure.Figure at 0x1891994b828>"
      ]
     },
     "metadata": {},
     "output_type": "display_data"
    }
   ],
   "source": [
    "dt = 0.1\n",
    "w = 1\n",
    "N = 200\n",
    "t = np.linspace(0, 2*np.pi, num = N)\n",
    "steerAngle = 0.314231899 \n",
    "theta = w*t + np.pi/2\n",
    "\n",
    "r = 1\n",
    "\n",
    "x = r*(np.cos(w*t))\n",
    "y = r*(np.sin(w*t))\n",
    "\n",
    "plt.plot(t,theta)\n",
    "plt.plot(t,x)\n",
    "plt.plot(t,y)\n",
    "plt.show()"
   ]
  },
  {
   "cell_type": "code",
   "execution_count": 7,
   "metadata": {},
   "outputs": [],
   "source": [
    "from IPython.display import clear_output"
   ]
  },
  {
   "cell_type": "code",
   "execution_count": null,
   "metadata": {},
   "outputs": [],
   "source": [
    "robots = []\n",
    "for i in range(N):\n",
    "    robots.append(robot3d(x[i],y[i], theta[i],steerAngle))\n",
    "    clear_output()\n",
    "    print(i/n)"
   ]
  },
  {
   "cell_type": "code",
   "execution_count": null,
   "metadata": {},
   "outputs": [],
   "source": [
    "flushWorld()\n",
    "\n",
    "world.add(robots[N-1])\n",
    "\n",
    "while True:\n",
    "    world.add(robots[0])\n",
    "    world.remove(robots[N-1])\n",
    "    for i in range(0,N-1,1):\n",
    "        world.add(robots[i+1])\n",
    "        world.remove(robots[i])\n",
    "        time.sleep(dt)"
   ]
  },
  {
   "cell_type": "code",
   "execution_count": null,
   "metadata": {
    "collapsed": true
   },
   "outputs": [],
   "source": []
  }
 ],
 "metadata": {
  "kernelspec": {
   "display_name": "Python 3",
   "language": "python",
   "name": "python3"
  },
  "language_info": {
   "codemirror_mode": {
    "name": "ipython",
    "version": 3
   },
   "file_extension": ".py",
   "mimetype": "text/x-python",
   "name": "python",
   "nbconvert_exporter": "python",
   "pygments_lexer": "ipython3",
   "version": "3.6.3"
  }
 },
 "nbformat": 4,
 "nbformat_minor": 2
}
