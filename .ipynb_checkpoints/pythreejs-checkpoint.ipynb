{
 "cells": [
  {
   "cell_type": "code",
   "execution_count": 28,
   "metadata": {
    "scrolled": true
   },
   "outputs": [],
   "source": [
    "from pythreejs import *\n",
    "import numpy as np\n",
    "from IPython.display import display\n",
    "from ipywidgets import HTML, Text\n",
    "from traitlets import link, dlink"
   ]
  },
  {
   "cell_type": "markdown",
   "metadata": {},
   "source": [
    "## Simplest program"
   ]
  },
  {
   "cell_type": "code",
   "execution_count": 29,
   "metadata": {
    "collapsed": true
   },
   "outputs": [],
   "source": [
    "def getOrigin(r = 0.05, color = 'black'):\n",
    "    origin = Mesh(geometry=SphereGeometry(radius=r), \n",
    "                                          material=MeshLambertMaterial(color=color),\n",
    "                                          position=[0, 0, 0])\n",
    "    return origin\n",
    "\n",
    "def getArrow(length = 1, arrowLengthRatio = 0.1, color = 'red'):\n",
    "    arrowLength = length*arrowLengthRatio\n",
    "    lineLength = length - arrowLength\n",
    "\n",
    "    rLine = length/100\n",
    "    rArrow = length/30\n",
    "\n",
    "    line = Mesh(geometry=CylinderGeometry(radiusTop=rLine,\n",
    "                                          radiusBottom=rLine,\n",
    "                                          height=lineLength), \n",
    "                                          material=MeshLambertMaterial(color=color),\n",
    "                                          position=[0, 0, 0])\n",
    "\n",
    "    arrow = Mesh(geometry=CylinderGeometry(radiusTop=0,\n",
    "                                           radiusBottom=rArrow,\n",
    "                                           height=arrowLength), \n",
    "                                           material=MeshLambertMaterial(color=color),\n",
    "                                           position=[0, lineLength/2, 0])\n",
    "    \n",
    "        \n",
    "    line.add(children=arrow)\n",
    "    \n",
    "\n",
    "    return line"
   ]
  },
  {
   "cell_type": "code",
   "execution_count": 30,
   "metadata": {},
   "outputs": [
    {
     "name": "stdout",
     "output_type": "stream",
     "text": [
      "<class 'pythreejs.objects.Mesh_autogen.Mesh'>\n"
     ]
    },
    {
     "data": {
      "application/vnd.jupyter.widget-view+json": {
       "model_id": "fb6b8e76b7424ee19c4e141aad427722",
       "version_major": 2,
       "version_minor": 0
      },
      "text/plain": [
       "A Jupyter Widget"
      ]
     },
     "metadata": {},
     "output_type": "display_data"
    }
   ],
   "source": [
    "length = 1\n",
    "arrowLengthRatio = 0.1\n",
    "r ='red'\n",
    "g = 'green'\n",
    "b = 'blue'\n",
    "y = 'yellow'\n",
    "\n",
    "alpha = np.pi/2\n",
    "\n",
    "origin = getOrigin(color = y)\n",
    "arrowX = getArrow(color = r)\n",
    "arrowY = getArrow(color = g)\n",
    "arrowZ = getArrow(color = b)\n",
    "\n",
    "\n",
    "arrowX.rotateX(alpha)\n",
    "arrowY.rotateZ(alpha)\n",
    "arrowZ\n",
    "\n",
    "origin.add(children=arrowX)\n",
    "origin.add(children=arrowY)\n",
    "origin.add(children=arrowZ)\n",
    "\n",
    "\n",
    "key_light = [DirectionalLight(color='#ccaabb', position=[0,10,0])]\n",
    "ambient_light = [AmbientLight(color='#777777')]\n",
    "\n",
    "scene = Scene()\n",
    "\n",
    "print(type(origin))\n",
    "scene.add(origin)\n",
    "scene.add(key_light)\n",
    "scene.add(ambient_light)\n",
    "\n",
    "c = PerspectiveCamera(position=[2, 2, 2])\n",
    "renderer = Renderer(camera=c, background='black', background_opacity=1, scene=scene, controls=[OrbitControls(controlling=c)],width=400, height=400)\n",
    "display(renderer)"
   ]
  },
  {
   "cell_type": "code",
   "execution_count": 31,
   "metadata": {},
   "outputs": [
    {
     "data": {
      "application/vnd.jupyter.widget-view+json": {
       "model_id": "71cd8e4d10fa4fcf9790d6cceeeb3337",
       "version_major": 2,
       "version_minor": 0
      },
      "text/plain": [
       "A Jupyter Widget"
      ]
     },
     "metadata": {},
     "output_type": "display_data"
    }
   ],
   "source": [
    "# On windows, linewidth of the material has no effect\n",
    "size = 4\n",
    "linesgeom = Geometry(vertices=[[0, 0, 0],\n",
    "                                    [size, 0, 0],\n",
    "                                    [0, 0, 0],\n",
    "                                    [0, size, 0],\n",
    "                                    [0, 0, 0],\n",
    "                                    [0, 0, size]],\n",
    "                          colors = ['red', 'red', 'green', 'green', 'white', 'orange'])\n",
    "lines = Line(geometry=linesgeom, \n",
    "             material=LineBasicMaterial(linewidth=5, vertexColors='VertexColors'), \n",
    "             type='LinePieces',\n",
    "            )\n",
    "\n",
    "lines.rotateX(3.14)\n",
    "scene = Scene(children=[\n",
    "    lines,\n",
    "    DirectionalLight(color='#ccaabb', position=[0,10,0]),\n",
    "    AmbientLight(color='#cccccc'),\n",
    "    ])\n",
    "c = PerspectiveCamera(position=[10, 10, 10])\n",
    "renderer = Renderer(camera=c, background='black', background_opacity=1, scene=scene, controls=[OrbitControls(controlling=c)],\n",
    "                    width=400, height=400)\n",
    "display(renderer)"
   ]
  },
  {
   "cell_type": "code",
   "execution_count": 34,
   "metadata": {},
   "outputs": [
    {
     "data": {
      "application/vnd.jupyter.widget-view+json": {
       "model_id": "9519c22570a44e4fb7b26ff334ebd56b",
       "version_major": 2,
       "version_minor": 0
      },
      "text/plain": [
       "A Jupyter Widget"
      ]
     },
     "metadata": {},
     "output_type": "display_data"
    }
   ],
   "source": [
    "from pythreejs import *\n",
    "from IPython.display import display\n",
    "\n",
    "vertices = [\n",
    "    [0, 0, 0],\n",
    "    [0, 0, 1],\n",
    "    [0, 1, 0],\n",
    "    [0, 1, 1],\n",
    "    [1, 0, 0],\n",
    "    [1, 0, 1],\n",
    "    [1, 1, 0],\n",
    "    [1, 1, 1]\n",
    "]\n",
    "\n",
    "faces = [\n",
    "    [0, 1, 3],\n",
    "    [0, 3, 2],\n",
    "    [0, 2, 4],\n",
    "    [2, 6, 4],\n",
    "    [0, 4, 1],\n",
    "    [1, 4, 5],\n",
    "    [2, 3, 6],\n",
    "    [3, 7, 6],\n",
    "    [1, 5, 3],\n",
    "    [3, 5, 7],\n",
    "    [4, 6, 5],\n",
    "    [5, 6, 7]\n",
    "]\n",
    "\n",
    "vertexcolors = ['#000000', '#0000ff', '#00ff00', '#ff0000',\n",
    "                '#00ffff', '#ff00ff', '#ffff00', '#ffffff']\n",
    "\n",
    "# Map the vertex colors into the 'color' slot of the faces\n",
    "faces = [f + [None, [vertexcolors[i] for i in f]] for f in faces]\n",
    "\n",
    "# Create the geometry:\n",
    "cubeGeometry = Geometry(vertices=vertices,\n",
    "    faces=faces,\n",
    "    colors=vertexcolors)\n",
    "# Calculate normals per face, for nice crisp edges:\n",
    "cubeGeometry.exec_three_obj_method('computeFaceNormals')\n",
    "\n",
    "# Create a mesh. Note that the material need to be told to use the vertex colors.\n",
    "myobjectCube = Mesh(\n",
    "    geometry=cubeGeometry,\n",
    "    material=MeshLambertMaterial(vertexColors='VertexColors'),\n",
    "    position=[-0.5, -0.5, -0.5],   # Center the cube\n",
    ")\n",
    "\n",
    "# Set up a scene and render it:\n",
    "cCube = PerspectiveCamera(position=[3, 3, 3], fov=20,\n",
    "                      children=[DirectionalLight(color='#ffffff', position=[-3, 5, 1], intensity=0.5)])\n",
    "sceneCube = Scene(children=[myobjectCube, cCube, AmbientLight(color='#dddddd')])\n",
    "\n",
    "rendererCube = Renderer(camera=cCube, background='black', background_opacity=1,\n",
    "                        scene=sceneCube, controls=[OrbitControls(controlling=cCube)],width=400, height=400)\n",
    "\n",
    "display(rendererCube)\n"
   ]
  },
  {
   "cell_type": "code",
   "execution_count": null,
   "metadata": {
    "collapsed": true
   },
   "outputs": [],
   "source": []
  },
  {
   "cell_type": "code",
   "execution_count": null,
   "metadata": {
    "collapsed": true
   },
   "outputs": [],
   "source": []
  },
  {
   "cell_type": "code",
   "execution_count": null,
   "metadata": {
    "collapsed": true
   },
   "outputs": [],
   "source": []
  }
 ],
 "metadata": {
  "kernelspec": {
   "display_name": "Python 3",
   "language": "python",
   "name": "python3"
  },
  "language_info": {
   "codemirror_mode": {
    "name": "ipython",
    "version": 3
   },
   "file_extension": ".py",
   "mimetype": "text/x-python",
   "name": "python",
   "nbconvert_exporter": "python",
   "pygments_lexer": "ipython3",
   "version": "3.6.3"
  }
 },
 "nbformat": 4,
 "nbformat_minor": 2
}
