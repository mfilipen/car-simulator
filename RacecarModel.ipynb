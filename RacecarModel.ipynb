{
 "cells": [
  {
   "cell_type": "markdown",
   "metadata": {},
   "source": [
    "## Racecar model"
   ]
  },
  {
   "cell_type": "code",
   "execution_count": 12,
   "metadata": {
    "collapsed": true
   },
   "outputs": [],
   "source": [
    "import matplotlib.pyplot as plt\n",
    "import numpy as np"
   ]
  },
  {
   "cell_type": "markdown",
   "metadata": {},
   "source": [
    "### Parameters of Car"
   ]
  },
  {
   "cell_type": "code",
   "execution_count": 6,
   "metadata": {
    "collapsed": true
   },
   "outputs": [],
   "source": [
    "sizeOfMap = 1.5\n",
    "rWheel=0.05\n",
    "hWheel=0.025\n",
    "\n",
    "wheelBase = 0.325\n",
    "track = 0.2\n",
    "\n",
    "steer_angle = 0\n",
    "deltaT = 1"
   ]
  },
  {
   "cell_type": "markdown",
   "metadata": {},
   "source": [
    "## Work on 3d graphics"
   ]
  },
  {
   "cell_type": "code",
   "execution_count": 28,
   "metadata": {
    "collapsed": true
   },
   "outputs": [],
   "source": [
    "from pythreejs import *"
   ]
  },
  {
   "cell_type": "code",
   "execution_count": 29,
   "metadata": {
    "collapsed": true
   },
   "outputs": [],
   "source": [
    "from IPython.display import display\n",
    "from ipywidgets import HTML, Text\n",
    "from traitlets import link, dlink"
   ]
  },
  {
   "cell_type": "markdown",
   "metadata": {},
   "source": [
    "##### Function for ploting world."
   ]
  },
  {
   "cell_type": "code",
   "execution_count": 20,
   "metadata": {
    "collapsed": true
   },
   "outputs": [],
   "source": [
    "def getOrigin(r = 0.025, color = 'yellow', X=[0, 0, 0]):\n",
    "    origin = Mesh(geometry=SphereGeometry(radius=r), \n",
    "                                          material=MeshLambertMaterial(color=color),\n",
    "                                          position=X)\n",
    "    return origin\n",
    "\n",
    "def tf(rf, H):    \n",
    "    \n",
    "    v = H * O\n",
    "    v = (np.ravel(v.getA())[0:3])\n",
    "    rf.position = (v[0], v[1], v[2])\n",
    "    \n",
    "    \n",
    "    R = H.getA()[0:3,0:3].T.ravel()\n",
    "    rf.setRotationFromMatrix(R)\n",
    "    \n",
    "    return rf \n",
    "\n",
    "def getJ(length = 0.2, arrowLengthRatio = 0.1, color = 'green'):\n",
    "    \n",
    "    arrowLength = length * arrowLengthRatio\n",
    "    lineLength = length - arrowLength\n",
    "\n",
    "    rLine = length/150\n",
    "    rArrow = length/50\n",
    "\n",
    "    line = Mesh(geometry=CylinderGeometry(radiusTop=rLine,\n",
    "                                          radiusBottom=rLine,\n",
    "                                          height=lineLength), \n",
    "                                          material=MeshLambertMaterial(color=color),\n",
    "                                          position=[0, lineLength/2, 0])\n",
    "\n",
    "    arrow = Mesh(geometry=CylinderGeometry(radiusTop=0,\n",
    "                                           radiusBottom=rArrow,\n",
    "                                           height=arrowLength), \n",
    "                                           material=MeshLambertMaterial(color=color),\n",
    "                                           position=[0, (lineLength+arrowLength)/2, 0])\n",
    "    \n",
    "    origin = getOrigin()\n",
    "    origin.add(children=line)\n",
    "    line.add(children=arrow)\n",
    "\n",
    "    return origin\n",
    "\n",
    "def getK(length = 0.2):\n",
    "    k = getJ(length = length, color = 'blue')\n",
    "    return tf(k, Rx(np.pi/2))\n",
    "\n",
    "def getI(length = 0.2):\n",
    "    k = getJ(length = length, color = 'red')\n",
    "    return tf(k, Rz(-np.pi/2))\n",
    "\n",
    "def getCoordinateFrame(length = 0.2):\n",
    "    origin = getOrigin()\n",
    "    ortK = getK(length = length)\n",
    "    ortI = getI(length = length)\n",
    "    ortJ = getJ(length = length)\n",
    "\n",
    "    origin.add(ortK)\n",
    "    origin.add(ortI)\n",
    "    origin.add(ortJ)\n",
    "    \n",
    "    return origin\n",
    "\n",
    "def plot3D(rf):\n",
    "    scene = Scene()\n",
    "    \n",
    "    tf(rf, Rx(-np.pi/2))\n",
    "\n",
    "    key_light = [DirectionalLight(color='#ffffff', intensity=0.6, position=[10,10,10])]\n",
    "    ambient_light = [AmbientLight(color='#777777')]\n",
    "\n",
    "    scene.add(rf)\n",
    "    scene.add(key_light)\n",
    "    scene.add(ambient_light)\n",
    "\n",
    "    c = PerspectiveCamera(position=[2, 2, 2])\n",
    "    renderer = Renderer(camera=c, background='black', background_opacity=1,\n",
    "                        scene=scene, controls=[OrbitControls(controlling=c)],\n",
    "                        width=800, height=800)\n",
    "    display(renderer)\n",
    "\n",
    "def rf(H):\n",
    "    origin = getCoordinateFrame()\n",
    "    tf(origin,H)\n",
    "    return origin"
   ]
  },
  {
   "cell_type": "markdown",
   "metadata": {},
   "source": [
    "##### Functions for ploting objects of the world"
   ]
  },
  {
   "cell_type": "code",
   "execution_count": 21,
   "metadata": {
    "collapsed": true
   },
   "outputs": [],
   "source": [
    "def getLine(X1,X2,color='black'):\n",
    "    linegeom = Geometry(vertices=[X1,X2],colors = [color, color])\n",
    "    line = Line(geometry=linegeom, \n",
    "                 material=LineBasicMaterial(linewidth=20, vertexColors='VertexColors'), \n",
    "                 type='LinePieces',\n",
    "                )\n",
    "    return line\n",
    "\n",
    "def getCylinder(length, r1,r2, color):\n",
    "    cylinder = Mesh(geometry=CylinderGeometry(radiusTop=r1,\n",
    "                                              radiusBottom=r2,\n",
    "                                              height=length), \n",
    "                                              material=MeshLambertMaterial(color=color),\n",
    "                                              position=[0, 0, 0])\n",
    "    return cylinder\n",
    "\n",
    "def getGrid(size = 10):\n",
    "    world = getOrigin()\n",
    "    \n",
    "    h=size/2\n",
    "    for xi in np.arange(-h,h+1,1):\n",
    "        X1 = [xi, -h, 0]\n",
    "        X2 = [xi, h, 0]\n",
    "        world.add(getLine(X1,X2))\n",
    "    \n",
    "    for yi in np.arange(-h,h+1,1):\n",
    "        X1 = [-h, yi, 0]\n",
    "        X2 = [ h, yi, 0]\n",
    "        world.add(getLine(X1,X2))\n",
    "    return world\n",
    "\n",
    "def getWheel(r = rWheel, h = hWheel):\n",
    "    wheel = Mesh(geometry=CylinderGeometry(\n",
    "                                radiusTop=r,\n",
    "                                radiusBottom=r,\n",
    "                                height=h,\n",
    "                                ), \n",
    "                               material=MeshLambertMaterial(color='black'),\n",
    "                               position=[0, 0, 0])\n",
    "    return wheel\n",
    "\n",
    "def putWheel(H):\n",
    "    wheel=getWheel()\n",
    "    tf(wheel, H)\n",
    "    return wheel\n",
    "\n",
    "\n",
    "def putCylinder(length, H, r1=0.01, r2 =0.01, color = 'orange'):\n",
    "    cylinder = getCylinder(length, r1, r2, color)\n",
    "    tf(cylinder, H)\n",
    "    return cylinder \n",
    "\n",
    "def putPlane(H, size = 10, color ='#e0e0e0'):\n",
    "    plane = Mesh(geometry=PlaneGeometry(\n",
    "                                            width=size,\n",
    "                                            height=size), \n",
    "                                            material=MeshLambertMaterial(color=color),\n",
    "                                            position=[0, 0, 0])\n",
    "    tf(plane,H)\n",
    "    return plane"
   ]
  },
  {
   "cell_type": "markdown",
   "metadata": {},
   "source": [
    "##### Ackermann steering model"
   ]
  },
  {
   "cell_type": "code",
   "execution_count": 22,
   "metadata": {
    "collapsed": true
   },
   "outputs": [],
   "source": [
    "def getRadius(alpha):\n",
    "    r = wheelBase/np.tan(alpha)\n",
    "    return r\n",
    "\n",
    "def getRadiusInner(alpha):\n",
    "    r = getRadius(alpha)\n",
    "    return (r - track/2)\n",
    "\n",
    "def getRadiusOuter(alpha):\n",
    "    r = getRadius(alpha)\n",
    "    return (r + track/2)\n",
    "\n",
    "def getSteerAngles(alpha):\n",
    "    r = getRadius(alpha)\n",
    "    alphaInner = np.arctan(wheelBase/(getRadiusInner(alpha)))\n",
    "    alphaOuter = np.arctan(wheelBase/(getRadiusOuter(alpha)))\n",
    "    \n",
    "    return [alphaInner, alphaOuter]\n",
    "\n",
    "def getWheelLine(Hwheel, r):\n",
    "    X1 = Hwheel * O \n",
    "    X2 = Hwheel * Ty(r) * O\n",
    "    \n",
    "    X1 = (np.ravel(X1.getA())[0:3]).tolist()\n",
    "    X2 = (np.ravel(X2.getA())[0:3]).tolist()\n",
    "\n",
    "    return getLine(X1, X2, color='green')  \n",
    "\n",
    "def getICR(H):\n",
    "    point = getOrigin(r = 0.015)\n",
    "    tf(point,H ) \n",
    "    return point"
   ]
  },
  {
   "cell_type": "markdown",
   "metadata": {},
   "source": [
    "##### Functions for representation of robot state"
   ]
  },
  {
   "cell_type": "code",
   "execution_count": 23,
   "metadata": {
    "collapsed": true
   },
   "outputs": [],
   "source": [
    "def bicycleModel3d(x, y, theta, steerAngle):\n",
    "    world = getOrigin()\n",
    "    z=rWheel\n",
    "    Hbaselink =  Tx(x) * Ty(y) * Tz(z) * Rz(theta)\n",
    "    world.add(rf(Hbaselink))\n",
    "   \n",
    "    \n",
    "    HbaseEnd =  Hbaselink * Tx(wheelBase) \n",
    "    world.add(tf(getOrigin(),HbaseEnd))\n",
    "       \n",
    "    HwheelCentralFront = HbaseEnd * Rz(steerAngle)\n",
    "    world.add(rf(HwheelCentralFront))\n",
    "    if (steerAngle!=0):\n",
    "        r = getRadius(steerAngle)\n",
    "        Hicr = Hbaselink * Ty(r)\n",
    "        world.add(getICR(Hicr))\n",
    "        world.add(getWheelLine(HwheelCentralFront, r/np.cos(steerAngle)))\n",
    "        world.add(getWheelLine(Hbaselink, r))\n",
    "        \n",
    "    \n",
    "\n",
    "    world.add(putWheel(Hbaselink))\n",
    "    world.add(putWheel(HwheelCentralFront))\n",
    "    \n",
    "    world.add(putCylinder(r1=0.02, r2 = 0.01, length=wheelBase, H = Hbaselink*Tx(wheelBase/2)*Rz(np.pi/2)))\n",
    "\n",
    "    return world"
   ]
  },
  {
   "cell_type": "code",
   "execution_count": 24,
   "metadata": {
    "collapsed": true
   },
   "outputs": [],
   "source": [
    "def robot3d(x, y, theta, steerAngle):\n",
    "    world = getOrigin()\n",
    "    z=rWheel\n",
    "    Hbaselink =  Tx(x) * Ty(y) * Tz(z) * Rz(theta)\n",
    "    world.add(rf(Hbaselink))\n",
    "   \n",
    "    \n",
    "    HbaseEnd =  Hbaselink * Tx(wheelBase) \n",
    "    world.add(tf(getOrigin(),HbaseEnd))\n",
    "    \n",
    "    \n",
    "    HwheelLeftFrontHinge = HbaseEnd * Ty(track/2)\n",
    "    HwheelRightFrontHinge = HbaseEnd * Ty(-track/2)\n",
    "    \n",
    "    Hicr = 0\n",
    "    \n",
    "    if (steerAngle!=0):\n",
    "        r = getRadius(steerAngle)\n",
    "        Hicr = Hbaselink * Ty(r)\n",
    "        world.add(getICR(Hicr))\n",
    "        alphaInner, alphaOuter = getSteerAngles(steerAngle) \n",
    "        world.add(getWheelLine(Hbaselink, getRadius(steerAngle)))\n",
    "        world.add(getICR(Hicr))\n",
    "    else:\n",
    "        alphaInner = steerAngle\n",
    "        alphaOuter = steerAngle\n",
    "        \n",
    "    HwheelLeftFront = HwheelLeftFrontHinge * Rz(alphaInner)\n",
    "    world.add(rf(HwheelLeftFront))\n",
    "    ##world.add(tf(getOrigin(),HwheelLeftFront))\n",
    "    \n",
    "    #HwheelCentralFront = HbaseEnd * Rz(steerAngle)\n",
    "    #world.add(rf(HwheelCentralFront))\n",
    "    #world.add(getWheelLine(HwheelCentralFront, getRadius(steerAngle)/np.cos(steerAngle)))\n",
    "    ##world.add(tf(getOrigin(),HwheelRightFront))\n",
    "    \n",
    "    HwheelRightFront = HwheelRightFrontHinge * Rz(alphaOuter)\n",
    "    world.add(rf(HwheelRightFront))\n",
    "    ##world.add(tf(getOrigin(),HwheelRightFront))\n",
    "    \n",
    "    if (steerAngle!=0):\n",
    "        world.add(getWheelLine(HwheelLeftFront, getRadiusInner(steerAngle)/np.cos(alphaInner)))\n",
    "        world.add(getWheelLine(HwheelRightFront, getRadiusOuter(steerAngle)/np.cos(alphaOuter)))\n",
    "    \n",
    "    \n",
    "    HwheelLeftRearHinge =  Hbaselink * Ty(track/2)\n",
    "   \n",
    "    #world.add(HwheelLeftRearHinge)\n",
    "    \n",
    "    HwheelRightRearHinge =   Hbaselink *  Ty(-track/2) \n",
    "    #world.add(HwheelLeftRearHinge)\n",
    "    \n",
    "    HwheelLeftRear = HwheelLeftRearHinge\n",
    "    ##world.add(rf(HwheelLeftRear))\n",
    "    world.add(tf(getOrigin(),HwheelLeftRear)) \n",
    "        \n",
    "    HwheelRightRear = HwheelRightRearHinge\n",
    "    ##world.add(rf(HwheelRightRear))\n",
    "    world.add(tf(getOrigin(),HwheelRightRear))\n",
    "        \n",
    "    world.add(putWheel(HwheelLeftFront))\n",
    "    world.add(putWheel(HwheelRightFront))\n",
    "    world.add(putWheel(HwheelLeftRear))\n",
    "    world.add(putWheel(HwheelRightRear))\n",
    "    #world.add(putWheel(HwheelCentralFront))\n",
    "    \n",
    "    \n",
    "    world.add(putCylinder(length=track, H = Hbaselink))\n",
    "    world.add(putCylinder(length=track, H = HbaseEnd))\n",
    "    world.add(putCylinder(r1=0.02, r2 = 0.01, length=wheelBase, H = Hbaselink*Tx(wheelBase/2)*Rz(np.pi/2)))\n",
    "    \n",
    "    #plot3D(world)\n",
    "    return world"
   ]
  },
  {
   "cell_type": "markdown",
   "metadata": {},
   "source": [
    "## Test"
   ]
  },
  {
   "cell_type": "code",
   "execution_count": 25,
   "metadata": {},
   "outputs": [
    {
     "ename": "NameError",
     "evalue": "name 'Mesh' is not defined",
     "output_type": "error",
     "traceback": [
      "\u001b[1;31m---------------------------------------------------------------------------\u001b[0m",
      "\u001b[1;31mNameError\u001b[0m                                 Traceback (most recent call last)",
      "\u001b[1;32m<ipython-input-25-144a6639effb>\u001b[0m in \u001b[0;36m<module>\u001b[1;34m()\u001b[0m\n\u001b[0;32m      1\u001b[0m \u001b[0mtheta\u001b[0m \u001b[1;33m=\u001b[0m \u001b[0mnp\u001b[0m\u001b[1;33m.\u001b[0m\u001b[0mpi\u001b[0m\u001b[1;33m/\u001b[0m\u001b[1;36m11\u001b[0m\u001b[1;33m\u001b[0m\u001b[0m\n\u001b[0;32m      2\u001b[0m \u001b[0msteerAngle\u001b[0m \u001b[1;33m=\u001b[0m \u001b[1;33m-\u001b[0m\u001b[0mnp\u001b[0m\u001b[1;33m.\u001b[0m\u001b[0mpi\u001b[0m\u001b[1;33m/\u001b[0m\u001b[1;36m4\u001b[0m\u001b[1;33m\u001b[0m\u001b[0m\n\u001b[1;32m----> 3\u001b[1;33m \u001b[0mflushWorld\u001b[0m\u001b[1;33m(\u001b[0m\u001b[1;33m)\u001b[0m\u001b[1;33m\u001b[0m\u001b[0m\n\u001b[0m\u001b[0;32m      4\u001b[0m \u001b[0mworld\u001b[0m\u001b[1;33m.\u001b[0m\u001b[0madd\u001b[0m\u001b[1;33m(\u001b[0m\u001b[0mrobot3d\u001b[0m\u001b[1;33m(\u001b[0m\u001b[1;36m0.3\u001b[0m\u001b[1;33m,\u001b[0m\u001b[1;36m0.5\u001b[0m\u001b[1;33m,\u001b[0m \u001b[0mtheta\u001b[0m\u001b[1;33m,\u001b[0m\u001b[0msteerAngle\u001b[0m\u001b[1;33m)\u001b[0m\u001b[1;33m)\u001b[0m\u001b[1;33m\u001b[0m\u001b[0m\n",
      "\u001b[1;32m<ipython-input-16-b8757a5516ed>\u001b[0m in \u001b[0;36mflushWorld\u001b[1;34m()\u001b[0m\n\u001b[0;32m      1\u001b[0m \u001b[1;32mdef\u001b[0m \u001b[0mflushWorld\u001b[0m\u001b[1;33m(\u001b[0m\u001b[1;33m)\u001b[0m\u001b[1;33m:\u001b[0m\u001b[1;33m\u001b[0m\u001b[0m\n\u001b[0;32m      2\u001b[0m     \u001b[1;32mglobal\u001b[0m \u001b[0mworld\u001b[0m\u001b[1;33m\u001b[0m\u001b[0m\n\u001b[1;32m----> 3\u001b[1;33m     \u001b[0mworld\u001b[0m\u001b[1;33m.\u001b[0m\u001b[0mchildren\u001b[0m \u001b[1;33m=\u001b[0m \u001b[1;33m[\u001b[0m\u001b[0mgetCoordinateFrame\u001b[0m\u001b[1;33m(\u001b[0m\u001b[0mlength\u001b[0m \u001b[1;33m=\u001b[0m \u001b[1;36m1\u001b[0m\u001b[1;33m)\u001b[0m\u001b[1;33m,\u001b[0m\u001b[0mgetGrid\u001b[0m\u001b[1;33m(\u001b[0m\u001b[1;33m)\u001b[0m\u001b[1;33m,\u001b[0m\u001b[0mputPlane\u001b[0m\u001b[1;33m(\u001b[0m\u001b[0mTz\u001b[0m\u001b[1;33m(\u001b[0m\u001b[1;33m-\u001b[0m\u001b[1;36m0.01\u001b[0m\u001b[1;33m)\u001b[0m\u001b[1;33m)\u001b[0m\u001b[1;33m]\u001b[0m\u001b[1;33m\u001b[0m\u001b[0m\n\u001b[0m\u001b[0;32m      4\u001b[0m \u001b[1;33m\u001b[0m\u001b[0m\n\u001b[0;32m      5\u001b[0m     \u001b[1;31m#world.add(getOrigin(color='red', X=[1,0,0]))\u001b[0m\u001b[1;33m\u001b[0m\u001b[1;33m\u001b[0m\u001b[0m\n",
      "\u001b[1;32m<ipython-input-20-821f1b7f0892>\u001b[0m in \u001b[0;36mgetCoordinateFrame\u001b[1;34m(length)\u001b[0m\n\u001b[0;32m     52\u001b[0m \u001b[1;33m\u001b[0m\u001b[0m\n\u001b[0;32m     53\u001b[0m \u001b[1;32mdef\u001b[0m \u001b[0mgetCoordinateFrame\u001b[0m\u001b[1;33m(\u001b[0m\u001b[0mlength\u001b[0m \u001b[1;33m=\u001b[0m \u001b[1;36m0.2\u001b[0m\u001b[1;33m)\u001b[0m\u001b[1;33m:\u001b[0m\u001b[1;33m\u001b[0m\u001b[0m\n\u001b[1;32m---> 54\u001b[1;33m     \u001b[0morigin\u001b[0m \u001b[1;33m=\u001b[0m \u001b[0mgetOrigin\u001b[0m\u001b[1;33m(\u001b[0m\u001b[1;33m)\u001b[0m\u001b[1;33m\u001b[0m\u001b[0m\n\u001b[0m\u001b[0;32m     55\u001b[0m     \u001b[0mortK\u001b[0m \u001b[1;33m=\u001b[0m \u001b[0mgetK\u001b[0m\u001b[1;33m(\u001b[0m\u001b[0mlength\u001b[0m \u001b[1;33m=\u001b[0m \u001b[0mlength\u001b[0m\u001b[1;33m)\u001b[0m\u001b[1;33m\u001b[0m\u001b[0m\n\u001b[0;32m     56\u001b[0m     \u001b[0mortI\u001b[0m \u001b[1;33m=\u001b[0m \u001b[0mgetI\u001b[0m\u001b[1;33m(\u001b[0m\u001b[0mlength\u001b[0m \u001b[1;33m=\u001b[0m \u001b[0mlength\u001b[0m\u001b[1;33m)\u001b[0m\u001b[1;33m\u001b[0m\u001b[0m\n",
      "\u001b[1;32m<ipython-input-20-821f1b7f0892>\u001b[0m in \u001b[0;36mgetOrigin\u001b[1;34m(r, color, X)\u001b[0m\n\u001b[0;32m      1\u001b[0m \u001b[1;32mdef\u001b[0m \u001b[0mgetOrigin\u001b[0m\u001b[1;33m(\u001b[0m\u001b[0mr\u001b[0m \u001b[1;33m=\u001b[0m \u001b[1;36m0.025\u001b[0m\u001b[1;33m,\u001b[0m \u001b[0mcolor\u001b[0m \u001b[1;33m=\u001b[0m \u001b[1;34m'yellow'\u001b[0m\u001b[1;33m,\u001b[0m \u001b[0mX\u001b[0m\u001b[1;33m=\u001b[0m\u001b[1;33m[\u001b[0m\u001b[1;36m0\u001b[0m\u001b[1;33m,\u001b[0m \u001b[1;36m0\u001b[0m\u001b[1;33m,\u001b[0m \u001b[1;36m0\u001b[0m\u001b[1;33m]\u001b[0m\u001b[1;33m)\u001b[0m\u001b[1;33m:\u001b[0m\u001b[1;33m\u001b[0m\u001b[0m\n\u001b[1;32m----> 2\u001b[1;33m     origin = Mesh(geometry=SphereGeometry(radius=r), \n\u001b[0m\u001b[0;32m      3\u001b[0m                                           \u001b[0mmaterial\u001b[0m\u001b[1;33m=\u001b[0m\u001b[0mMeshLambertMaterial\u001b[0m\u001b[1;33m(\u001b[0m\u001b[0mcolor\u001b[0m\u001b[1;33m=\u001b[0m\u001b[0mcolor\u001b[0m\u001b[1;33m)\u001b[0m\u001b[1;33m,\u001b[0m\u001b[1;33m\u001b[0m\u001b[0m\n\u001b[0;32m      4\u001b[0m                                           position=X)\n\u001b[0;32m      5\u001b[0m     \u001b[1;32mreturn\u001b[0m \u001b[0morigin\u001b[0m\u001b[1;33m\u001b[0m\u001b[0m\n",
      "\u001b[1;31mNameError\u001b[0m: name 'Mesh' is not defined"
     ]
    }
   ],
   "source": [
    "theta = np.pi/11\n",
    "steerAngle = -np.pi/4\n",
    "flushWorld()\n",
    "world.add(robot3d(0.3,0.5, theta,steerAngle))"
   ]
  },
  {
   "cell_type": "code",
   "execution_count": 26,
   "metadata": {},
   "outputs": [
    {
     "ename": "NameError",
     "evalue": "name 'Mesh' is not defined",
     "output_type": "error",
     "traceback": [
      "\u001b[1;31m---------------------------------------------------------------------------\u001b[0m",
      "\u001b[1;31mNameError\u001b[0m                                 Traceback (most recent call last)",
      "\u001b[1;32m<ipython-input-26-0683a22fc868>\u001b[0m in \u001b[0;36m<module>\u001b[1;34m()\u001b[0m\n\u001b[1;32m----> 1\u001b[1;33m \u001b[0mflushWorld\u001b[0m\u001b[1;33m(\u001b[0m\u001b[1;33m)\u001b[0m\u001b[1;33m\u001b[0m\u001b[0m\n\u001b[0m\u001b[0;32m      2\u001b[0m \u001b[0mworld\u001b[0m\u001b[1;33m.\u001b[0m\u001b[0madd\u001b[0m\u001b[1;33m(\u001b[0m\u001b[0mbicycleModel3d\u001b[0m\u001b[1;33m(\u001b[0m\u001b[1;36m0.3\u001b[0m\u001b[1;33m,\u001b[0m\u001b[1;36m0.5\u001b[0m\u001b[1;33m,\u001b[0m \u001b[0mtheta\u001b[0m\u001b[1;33m,\u001b[0m\u001b[0msteerAngle\u001b[0m\u001b[1;33m)\u001b[0m\u001b[1;33m)\u001b[0m\u001b[1;33m\u001b[0m\u001b[0m\n",
      "\u001b[1;32m<ipython-input-16-b8757a5516ed>\u001b[0m in \u001b[0;36mflushWorld\u001b[1;34m()\u001b[0m\n\u001b[0;32m      1\u001b[0m \u001b[1;32mdef\u001b[0m \u001b[0mflushWorld\u001b[0m\u001b[1;33m(\u001b[0m\u001b[1;33m)\u001b[0m\u001b[1;33m:\u001b[0m\u001b[1;33m\u001b[0m\u001b[0m\n\u001b[0;32m      2\u001b[0m     \u001b[1;32mglobal\u001b[0m \u001b[0mworld\u001b[0m\u001b[1;33m\u001b[0m\u001b[0m\n\u001b[1;32m----> 3\u001b[1;33m     \u001b[0mworld\u001b[0m\u001b[1;33m.\u001b[0m\u001b[0mchildren\u001b[0m \u001b[1;33m=\u001b[0m \u001b[1;33m[\u001b[0m\u001b[0mgetCoordinateFrame\u001b[0m\u001b[1;33m(\u001b[0m\u001b[0mlength\u001b[0m \u001b[1;33m=\u001b[0m \u001b[1;36m1\u001b[0m\u001b[1;33m)\u001b[0m\u001b[1;33m,\u001b[0m\u001b[0mgetGrid\u001b[0m\u001b[1;33m(\u001b[0m\u001b[1;33m)\u001b[0m\u001b[1;33m,\u001b[0m\u001b[0mputPlane\u001b[0m\u001b[1;33m(\u001b[0m\u001b[0mTz\u001b[0m\u001b[1;33m(\u001b[0m\u001b[1;33m-\u001b[0m\u001b[1;36m0.01\u001b[0m\u001b[1;33m)\u001b[0m\u001b[1;33m)\u001b[0m\u001b[1;33m]\u001b[0m\u001b[1;33m\u001b[0m\u001b[0m\n\u001b[0m\u001b[0;32m      4\u001b[0m \u001b[1;33m\u001b[0m\u001b[0m\n\u001b[0;32m      5\u001b[0m     \u001b[1;31m#world.add(getOrigin(color='red', X=[1,0,0]))\u001b[0m\u001b[1;33m\u001b[0m\u001b[1;33m\u001b[0m\u001b[0m\n",
      "\u001b[1;32m<ipython-input-20-821f1b7f0892>\u001b[0m in \u001b[0;36mgetCoordinateFrame\u001b[1;34m(length)\u001b[0m\n\u001b[0;32m     52\u001b[0m \u001b[1;33m\u001b[0m\u001b[0m\n\u001b[0;32m     53\u001b[0m \u001b[1;32mdef\u001b[0m \u001b[0mgetCoordinateFrame\u001b[0m\u001b[1;33m(\u001b[0m\u001b[0mlength\u001b[0m \u001b[1;33m=\u001b[0m \u001b[1;36m0.2\u001b[0m\u001b[1;33m)\u001b[0m\u001b[1;33m:\u001b[0m\u001b[1;33m\u001b[0m\u001b[0m\n\u001b[1;32m---> 54\u001b[1;33m     \u001b[0morigin\u001b[0m \u001b[1;33m=\u001b[0m \u001b[0mgetOrigin\u001b[0m\u001b[1;33m(\u001b[0m\u001b[1;33m)\u001b[0m\u001b[1;33m\u001b[0m\u001b[0m\n\u001b[0m\u001b[0;32m     55\u001b[0m     \u001b[0mortK\u001b[0m \u001b[1;33m=\u001b[0m \u001b[0mgetK\u001b[0m\u001b[1;33m(\u001b[0m\u001b[0mlength\u001b[0m \u001b[1;33m=\u001b[0m \u001b[0mlength\u001b[0m\u001b[1;33m)\u001b[0m\u001b[1;33m\u001b[0m\u001b[0m\n\u001b[0;32m     56\u001b[0m     \u001b[0mortI\u001b[0m \u001b[1;33m=\u001b[0m \u001b[0mgetI\u001b[0m\u001b[1;33m(\u001b[0m\u001b[0mlength\u001b[0m \u001b[1;33m=\u001b[0m \u001b[0mlength\u001b[0m\u001b[1;33m)\u001b[0m\u001b[1;33m\u001b[0m\u001b[0m\n",
      "\u001b[1;32m<ipython-input-20-821f1b7f0892>\u001b[0m in \u001b[0;36mgetOrigin\u001b[1;34m(r, color, X)\u001b[0m\n\u001b[0;32m      1\u001b[0m \u001b[1;32mdef\u001b[0m \u001b[0mgetOrigin\u001b[0m\u001b[1;33m(\u001b[0m\u001b[0mr\u001b[0m \u001b[1;33m=\u001b[0m \u001b[1;36m0.025\u001b[0m\u001b[1;33m,\u001b[0m \u001b[0mcolor\u001b[0m \u001b[1;33m=\u001b[0m \u001b[1;34m'yellow'\u001b[0m\u001b[1;33m,\u001b[0m \u001b[0mX\u001b[0m\u001b[1;33m=\u001b[0m\u001b[1;33m[\u001b[0m\u001b[1;36m0\u001b[0m\u001b[1;33m,\u001b[0m \u001b[1;36m0\u001b[0m\u001b[1;33m,\u001b[0m \u001b[1;36m0\u001b[0m\u001b[1;33m]\u001b[0m\u001b[1;33m)\u001b[0m\u001b[1;33m:\u001b[0m\u001b[1;33m\u001b[0m\u001b[0m\n\u001b[1;32m----> 2\u001b[1;33m     origin = Mesh(geometry=SphereGeometry(radius=r), \n\u001b[0m\u001b[0;32m      3\u001b[0m                                           \u001b[0mmaterial\u001b[0m\u001b[1;33m=\u001b[0m\u001b[0mMeshLambertMaterial\u001b[0m\u001b[1;33m(\u001b[0m\u001b[0mcolor\u001b[0m\u001b[1;33m=\u001b[0m\u001b[0mcolor\u001b[0m\u001b[1;33m)\u001b[0m\u001b[1;33m,\u001b[0m\u001b[1;33m\u001b[0m\u001b[0m\n\u001b[0;32m      4\u001b[0m                                           position=X)\n\u001b[0;32m      5\u001b[0m     \u001b[1;32mreturn\u001b[0m \u001b[0morigin\u001b[0m\u001b[1;33m\u001b[0m\u001b[0m\n",
      "\u001b[1;31mNameError\u001b[0m: name 'Mesh' is not defined"
     ]
    }
   ],
   "source": [
    "flushWorld()\n",
    "world.add(bicycleModel3d(0.3,0.5, theta,steerAngle))"
   ]
  },
  {
   "cell_type": "code",
   "execution_count": 18,
   "metadata": {},
   "outputs": [
    {
     "ename": "NameError",
     "evalue": "name 'getOrigin' is not defined",
     "output_type": "error",
     "traceback": [
      "\u001b[1;31m---------------------------------------------------------------------------\u001b[0m",
      "\u001b[1;31mNameError\u001b[0m                                 Traceback (most recent call last)",
      "\u001b[1;32m<ipython-input-18-ad9cc3e65ab5>\u001b[0m in \u001b[0;36m<module>\u001b[1;34m()\u001b[0m\n\u001b[1;32m----> 1\u001b[1;33m \u001b[0mplotWorld\u001b[0m\u001b[1;33m(\u001b[0m\u001b[1;33m)\u001b[0m\u001b[1;33m\u001b[0m\u001b[0m\n\u001b[0m",
      "\u001b[1;32m<ipython-input-16-b8757a5516ed>\u001b[0m in \u001b[0;36mplotWorld\u001b[1;34m()\u001b[0m\n\u001b[0;32m      9\u001b[0m \u001b[1;32mdef\u001b[0m \u001b[0mplotWorld\u001b[0m\u001b[1;33m(\u001b[0m\u001b[1;33m)\u001b[0m\u001b[1;33m:\u001b[0m\u001b[1;33m\u001b[0m\u001b[0m\n\u001b[0;32m     10\u001b[0m     \u001b[1;32mglobal\u001b[0m \u001b[0mworld\u001b[0m\u001b[1;33m\u001b[0m\u001b[0m\n\u001b[1;32m---> 11\u001b[1;33m     \u001b[0mworld\u001b[0m \u001b[1;33m=\u001b[0m \u001b[0mgetOrigin\u001b[0m\u001b[1;33m(\u001b[0m\u001b[1;33m)\u001b[0m\u001b[1;33m\u001b[0m\u001b[0m\n\u001b[0m\u001b[0;32m     12\u001b[0m \u001b[1;33m\u001b[0m\u001b[0m\n\u001b[0;32m     13\u001b[0m     \u001b[0mflushWorld\u001b[0m\u001b[1;33m(\u001b[0m\u001b[1;33m)\u001b[0m\u001b[1;33m\u001b[0m\u001b[0m\n",
      "\u001b[1;31mNameError\u001b[0m: name 'getOrigin' is not defined"
     ]
    }
   ],
   "source": [
    "plotWorld()"
   ]
  },
  {
   "cell_type": "markdown",
   "metadata": {},
   "source": [
    "## Animation"
   ]
  },
  {
   "cell_type": "code",
   "execution_count": 30,
   "metadata": {
    "collapsed": true
   },
   "outputs": [],
   "source": [
    "def flushWorld():\n",
    "    global world\n",
    "    world.children = [getCoordinateFrame(length = 1),getGrid(),putPlane(Tz(-0.01))]\n",
    "    \n",
    "    #world.add(getOrigin(color='red', X=[1,0,0]))\n",
    "    #world.add(getOrigin(color='green',X=[0,1,0]))\n",
    "    #world.add(getOrigin(color='blue',X=[0,0,1]))\n",
    "    \n",
    "def plotWorld():\n",
    "    global world\n",
    "    world = getOrigin()\n",
    "    \n",
    "    flushWorld()\n",
    "    \n",
    "    scene = Scene()\n",
    "    \n",
    "    tf(world, Rx(-np.pi/2))\n",
    "\n",
    "    key_light = [DirectionalLight(color='#ffffff', intensity=0.6, position=[10,10,10])]\n",
    "    ambient_light = [AmbientLight(color='#777777')]\n",
    "\n",
    "    scene.add(world)\n",
    "    scene.add(key_light)\n",
    "    scene.add(ambient_light)\n",
    "\n",
    "    c = PerspectiveCamera(position=[2, 2, 2])\n",
    "    renderer = Renderer(camera=c, background='black', background_opacity=1,\n",
    "                        scene=scene, controls=[OrbitControls(controlling=c)],\n",
    "                        width=800, height=800)\n",
    "    display(renderer)"
   ]
  },
  {
   "cell_type": "code",
   "execution_count": 31,
   "metadata": {
    "scrolled": false
   },
   "outputs": [
    {
     "data": {
      "application/vnd.jupyter.widget-view+json": {
       "model_id": "363d51c6d7ec443981a9a137186d4fd7",
       "version_major": 2,
       "version_minor": 0
      },
      "text/plain": [
       "A Jupyter Widget"
      ]
     },
     "metadata": {},
     "output_type": "display_data"
    }
   ],
   "source": [
    "plotWorld()"
   ]
  },
  {
   "cell_type": "markdown",
   "metadata": {},
   "source": [
    "## Test of Animation"
   ]
  },
  {
   "cell_type": "code",
   "execution_count": 35,
   "metadata": {
    "collapsed": true
   },
   "outputs": [],
   "source": [
    "import time"
   ]
  },
  {
   "cell_type": "code",
   "execution_count": 36,
   "metadata": {
    "scrolled": true
   },
   "outputs": [
    {
     "data": {
      "image/png": "[encoded data removed]",
      "text/plain": [
       "<matplotlib.figure.Figure at 0x157a2d50cc0>"
      ]
     },
     "metadata": {},
     "output_type": "display_data"
    }
   ],
   "source": [
    "dt = 0.1\n",
    "w = 1\n",
    "N = 20\n",
    "t = np.linspace(0, 2*np.pi, num = N)\n",
    "steerAngle = 0.314231899 \n",
    "theta = w*t + np.pi/2\n",
    "\n",
    "r = 1\n",
    "\n",
    "x = r*(np.cos(w*t))\n",
    "y = r*(np.sin(w*t))\n",
    "\n",
    "plt.plot(t,theta)\n",
    "plt.plot(t,x)\n",
    "plt.plot(t,y)\n",
    "plt.show()"
   ]
  },
  {
   "cell_type": "code",
   "execution_count": 37,
   "metadata": {
    "collapsed": true
   },
   "outputs": [],
   "source": [
    "from IPython.display import clear_output"
   ]
  },
  {
   "cell_type": "code",
   "execution_count": 38,
   "metadata": {},
   "outputs": [
    {
     "name": "stdout",
     "output_type": "stream",
     "text": [
      "0.95\n"
     ]
    }
   ],
   "source": [
    "robots = []\n",
    "for i in range(N):\n",
    "    robots.append(robot3d(x[i],y[i], theta[i],steerAngle))\n",
    "    clear_output()\n",
    "    print(i/N)"
   ]
  },
  {
   "cell_type": "code",
   "execution_count": 39,
   "metadata": {},
   "outputs": [
    {
     "ename": "KeyboardInterrupt",
     "evalue": "",
     "output_type": "error",
     "traceback": [
      "\u001b[1;31m---------------------------------------------------------------------------\u001b[0m",
      "\u001b[1;31mKeyboardInterrupt\u001b[0m                         Traceback (most recent call last)",
      "\u001b[1;32m<ipython-input-39-e0c98d78ca4f>\u001b[0m in \u001b[0;36m<module>\u001b[1;34m()\u001b[0m\n\u001b[0;32m      9\u001b[0m         \u001b[0mworld\u001b[0m\u001b[1;33m.\u001b[0m\u001b[0madd\u001b[0m\u001b[1;33m(\u001b[0m\u001b[0mrobots\u001b[0m\u001b[1;33m[\u001b[0m\u001b[0mi\u001b[0m\u001b[1;33m+\u001b[0m\u001b[1;36m1\u001b[0m\u001b[1;33m]\u001b[0m\u001b[1;33m)\u001b[0m\u001b[1;33m\u001b[0m\u001b[0m\n\u001b[0;32m     10\u001b[0m         \u001b[0mworld\u001b[0m\u001b[1;33m.\u001b[0m\u001b[0mremove\u001b[0m\u001b[1;33m(\u001b[0m\u001b[0mrobots\u001b[0m\u001b[1;33m[\u001b[0m\u001b[0mi\u001b[0m\u001b[1;33m]\u001b[0m\u001b[1;33m)\u001b[0m\u001b[1;33m\u001b[0m\u001b[0m\n\u001b[1;32m---> 11\u001b[1;33m         \u001b[0mtime\u001b[0m\u001b[1;33m.\u001b[0m\u001b[0msleep\u001b[0m\u001b[1;33m(\u001b[0m\u001b[0mdt\u001b[0m\u001b[1;33m)\u001b[0m\u001b[1;33m\u001b[0m\u001b[0m\n\u001b[0m",
      "\u001b[1;31mKeyboardInterrupt\u001b[0m: "
     ]
    }
   ],
   "source": [
    "flushWorld()\n",
    "\n",
    "world.add(robots[N-1])\n",
    "\n",
    "while True:\n",
    "    world.add(robots[0])\n",
    "    world.remove(robots[N-1])\n",
    "    for i in range(0,N-1,1):\n",
    "        world.add(robots[i+1])\n",
    "        world.remove(robots[i])\n",
    "        time.sleep(dt)"
   ]
  },
  {
   "cell_type": "code",
   "execution_count": null,
   "metadata": {
    "collapsed": true
   },
   "outputs": [],
   "source": []
  }
 ],
 "metadata": {
  "kernelspec": {
   "display_name": "Python 3",
   "language": "python",
   "name": "python3"
  },
  "language_info": {
   "codemirror_mode": {
    "name": "ipython",
    "version": 3
   },
   "file_extension": ".py",
   "mimetype": "text/x-python",
   "name": "python",
   "nbconvert_exporter": "python",
   "pygments_lexer": "ipython3",
   "version": "3.6.3"
  }
 },
 "nbformat": 4,
 "nbformat_minor": 2
}
